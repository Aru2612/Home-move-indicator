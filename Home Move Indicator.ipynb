{
 "cells": [
  {
   "cell_type": "code",
   "execution_count": 1,
   "metadata": {},
   "outputs": [],
   "source": [
    "import warnings\n",
    "warnings.filterwarnings('ignore')"
   ]
  },
  {
   "cell_type": "code",
   "execution_count": 2,
   "metadata": {},
   "outputs": [],
   "source": [
    "from zoopla import Zoopla\n",
    "\n",
    "zoopla = Zoopla(api_key='gcstpjxbj29s2nzkmr9jnkgg')"
   ]
  },
  {
   "cell_type": "code",
   "execution_count": 3,
   "metadata": {},
   "outputs": [
    {
     "data": {
      "text/html": [
       "<center><img src=\"https://www.zoopla.co.uk/static/images/mashery/powered-by-zoopla-150x73.png\" width=\"150\" height=\"73\" title=\"Property information powered by Zoopla\" alt=\"Property information powered by Zoopla\" border=\"0\"></center>\n"
      ],
      "text/plain": [
       "<IPython.core.display.HTML object>"
      ]
     },
     "metadata": {},
     "output_type": "display_data"
    }
   ],
   "source": [
    "%%html\n",
    "<center><img src=\"https://www.zoopla.co.uk/static/images/mashery/powered-by-zoopla-150x73.png\" width=\"150\" height=\"73\" title=\"Property information powered by Zoopla\" alt=\"Property information powered by Zoopla\" border=\"0\"></center>"
   ]
  },
  {
   "cell_type": "code",
   "execution_count": 4,
   "metadata": {},
   "outputs": [],
   "source": [
    "import plotly.plotly as py\n",
    "import plotly.graph_objs as go"
   ]
  },
  {
   "cell_type": "code",
   "execution_count": 5,
   "metadata": {},
   "outputs": [],
   "source": [
    "import postcodes_io_api\n",
    "api  = postcodes_io_api.Api(debug_http=True)"
   ]
  },
  {
   "cell_type": "code",
   "execution_count": 6,
   "metadata": {},
   "outputs": [
    {
     "name": "stderr",
     "output_type": "stream",
     "text": [
      "DEBUG:urllib3.connectionpool:Starting new HTTP connection (1): api.zoopla.co.uk:80\n"
     ]
    },
    {
     "name": "stdout",
     "output_type": "stream",
     "text": [
      "send: b'GET /api/v1/property_listings.json?listing_status=sale&area=BN3&page_number=1&page_size=10&api_key=gcstpjxbj29s2nzkmr9jnkgg HTTP/1.1\\r\\nHost: api.zoopla.co.uk\\r\\nUser-Agent: python-requests/2.21.0\\r\\nAccept-Encoding: gzip, deflate\\r\\nAccept: */*\\r\\nConnection: keep-alive\\r\\n\\r\\n'\n"
     ]
    },
    {
     "name": "stderr",
     "output_type": "stream",
     "text": [
      "DEBUG:urllib3.connectionpool:http://api.zoopla.co.uk:80 \"GET /api/v1/property_listings.json?listing_status=sale&area=BN3&page_number=1&page_size=10&api_key=gcstpjxbj29s2nzkmr9jnkgg HTTP/1.1\" 200 None\n"
     ]
    },
    {
     "name": "stdout",
     "output_type": "stream",
     "text": [
      "reply: 'HTTP/1.1 200 OK\\r\\n'\n",
      "header: Content-Type: application/json; charset=utf-8\n",
      "header: Date: Sat, 02 Mar 2019 15:09:13 GMT\n",
      "header: Server: nginx\n",
      "header: transfer-encoding: chunked\n",
      "header: Connection: keep-alive\n"
     ]
    }
   ],
   "source": [
    "payload_data = {\"geolocations\":[]}\n",
    "lon=[]\n",
    "lat=[]\n",
    "date=[]\n",
    "search = zoopla.property_listings({'listing_status': 'sale','area': 'BN3','page_number':1,'page_size':10});\n",
    "for result in search.listing:\n",
    "    date.append(result.first_published_date)\n",
    "    lon.append(result.longitude)\n",
    "    lat.append(result.latitude)\n",
    "    payload_data['geolocations'].append({'longitude':result.longitude,'latitude':result.latitude,'radius':50,'limit':1})"
   ]
  },
  {
   "cell_type": "code",
   "execution_count": 7,
   "metadata": {},
   "outputs": [
    {
     "name": "stderr",
     "output_type": "stream",
     "text": [
      "DEBUG:urllib3.connectionpool:Starting new HTTP connection (1): api.postcodes.io:80\n"
     ]
    },
    {
     "name": "stdout",
     "output_type": "stream",
     "text": [
      "send: b'POST /postcodes HTTP/1.1\\r\\nHost: api.postcodes.io\\r\\nUser-Agent: python-requests/2.21.0\\r\\nAccept-Encoding: gzip, deflate\\r\\nAccept: */*\\r\\nConnection: keep-alive\\r\\nContent-Length: 763\\r\\nContent-Type: application/json\\r\\n\\r\\n'\n",
      "send: b'{\"geolocations\": [{\"longitude\": -0.16704, \"latitude\": 50.848557, \"radius\": 50, \"limit\": 1}, {\"longitude\": -0.161033, \"latitude\": 50.840557, \"radius\": 50, \"limit\": 1}, {\"longitude\": -0.16905, \"latitude\": 50.851288, \"radius\": 50, \"limit\": 1}, {\"longitude\": -0.184697, \"latitude\": 50.827724, \"radius\": 50, \"limit\": 1}, {\"longitude\": -0.169638, \"latitude\": 50.854057, \"radius\": 50, \"limit\": 1}, {\"longitude\": -0.157232, \"latitude\": 50.823833, \"radius\": 50, \"limit\": 1}, {\"longitude\": -0.160352, \"latitude\": 50.835114, \"radius\": 50, \"limit\": 1}, {\"longitude\": -0.163757, \"latitude\": 50.83811, \"radius\": 50, \"limit\": 1}, {\"longitude\": -0.16704, \"latitude\": 50.848557, \"radius\": 50, \"limit\": 1}, {\"longitude\": -0.171765, \"latitude\": 50.82507, \"radius\": 50, \"limit\": 1}]}'\n"
     ]
    },
    {
     "name": "stderr",
     "output_type": "stream",
     "text": [
      "DEBUG:urllib3.connectionpool:http://api.postcodes.io:80 \"POST /postcodes HTTP/1.1\" 200 9126\n"
     ]
    },
    {
     "name": "stdout",
     "output_type": "stream",
     "text": [
      "reply: 'HTTP/1.1 200 OK\\r\\n'\n",
      "header: Server: nginx/1.14.0\n",
      "header: Date: Sat, 02 Mar 2019 15:09:14 GMT\n",
      "header: Content-Type: application/json; charset=utf-8\n",
      "header: Content-Length: 9126\n",
      "header: Connection: keep-alive\n",
      "header: Access-Control-Allow-Origin: *\n",
      "header: ETag: W/\"23a6-m+1HAL2hmvCJe+2ChnPCcKv42+Y\"\n",
      "header: X-GNU: Michael J Blanchard\n"
     ]
    }
   ],
   "source": [
    "pc=[]\n",
    "result2=api.get_bulk_reverse_geocode(payload_data)\n",
    "for r in result2['result']:\n",
    "    pc.append(r['result'][0]['postcode'])"
   ]
  },
  {
   "cell_type": "code",
   "execution_count": 8,
   "metadata": {
    "scrolled": false
   },
   "outputs": [
    {
     "name": "stderr",
     "output_type": "stream",
     "text": [
      "DEBUG:urllib3.connectionpool:Starting new HTTPS connection (1): plot.ly:443\n"
     ]
    },
    {
     "name": "stdout",
     "output_type": "stream",
     "text": [
      "send: b'POST /clientresp HTTP/1.1\\r\\nHost: plot.ly\\r\\nUser-Agent: python-requests/2.21.0\\r\\nAccept-Encoding: gzip, deflate\\r\\nAccept: */*\\r\\nConnection: keep-alive\\r\\nContent-Length: 1331\\r\\nContent-Type: application/x-www-form-urlencoded\\r\\n\\r\\n'\n",
      "send: b'platform=python&version=3.6.1&args=%5B%7B%22lat%22%3A+%5B50.848557%2C+50.840557%2C+50.851288%2C+50.827724%2C+50.854057%2C+50.823833%2C+50.835114%2C+50.83811%2C+50.848557%2C+50.82507%5D%2C+%22lon%22%3A+%5B-0.16704%2C+-0.161033%2C+-0.16905%2C+-0.184697%2C+-0.169638%2C+-0.157232%2C+-0.160352%2C+-0.163757%2C+-0.16704%2C+-0.171765%5D%2C+%22marker%22%3A+%7B%22size%22%3A+9%7D%2C+%22mode%22%3A+%22markers%22%2C+%22text%22%3A+%5B%22BN3+6TN%22%2C+%22BN3+6LD%22%2C+%22BN3+6QL%22%2C+%22BN3+4GQ%22%2C+%22BN3+6RW%22%2C+%22BN3+1AQ%22%2C+%22BN3+6FN%22%2C+%22BN3+6NN%22%2C+%22BN3+6TN%22%2C+%22BN3+2PG%22%5D%2C+%22type%22%3A+%22scattermapbox%22%2C+%22uid%22%3A+%22c286b1bf-c0b9-4b31-b2d9-59aa3d8795b5%22%7D%5D&un=Aru2612&key=lA1w1RERwMACsboka4fe&origin=plot&kwargs=%7B%22auto_open%22%3A+false%2C+%22filename%22%3A+%22Multiple+Mapbox%22%2C+%22fileopt%22%3A+%22overwrite%22%2C+%22layout%22%3A+%7B%22autosize%22%3A+true%2C+%22hovermode%22%3A+%22closest%22%2C+%22mapbox%22%3A+%7B%22accesstoken%22%3A+%22pk.eyJ1IjoiYXJ1MjYxMiIsImEiOiJjanMwanVvcHgxZjg2M3luMTk2c2Z1ZnNvIn0.LJrZfEMS-mfe8nIOVqLziA%22%2C+%22bearing%22%3A+0%2C+%22center%22%3A+%7B%22lat%22%3A+50.83928669999999%2C+%22lon%22%3A+-0.16716040000000001%7D%2C+%22pitch%22%3A+0%2C+%22zoom%22%3A+10%7D%7D%2C+%22sharing%22%3A+%22public%22%2C+%22validate%22%3A+true%2C+%22world_readable%22%3A+true%7D'\n"
     ]
    },
    {
     "name": "stderr",
     "output_type": "stream",
     "text": [
      "DEBUG:urllib3.connectionpool:https://plot.ly:443 \"POST /clientresp HTTP/1.1\" 200 None\n"
     ]
    },
    {
     "name": "stdout",
     "output_type": "stream",
     "text": [
      "reply: 'HTTP/1.1 200 OK\\r\\n'\n",
      "header: Server: nginx\n",
      "header: Date: Sat, 02 Mar 2019 15:09:16 GMT\n",
      "header: Content-Type: application/json\n",
      "header: Vary: Accept-Encoding\n",
      "header: Vary: Accept-Encoding\n",
      "header: strict-transport-security: max-age=31536000; includeSubDomains; preload\n",
      "header: x-content-type-options: nosniff\n",
      "header: x-xss-protection: 1; mode=block\n",
      "header: X-Frame-Options: SAMEORIGIN\n",
      "header: Content-Language: en\n",
      "header: Set-Cookie: plotly_csrf_pr=5MFKrwm44FshfK0hA3uxsNlqKlKoxg32; Domain=.plot.ly; expires=Mon, 02-Mar-2020 15:09:16 GMT; Max-Age=31622400; Path=/; Secure\n",
      "header: Set-Cookie: plotly_csrf_pr=5MFKrwm44FshfK0hA3uxsNlqKlKoxg32; Domain=.plot.ly; expires=Mon, 02-Mar-2020 15:09:16 GMT; Max-Age=31622400; Path=/; Secure\n",
      "header: Set-Cookie: plotly_csrf_pr=5MFKrwm44FshfK0hA3uxsNlqKlKoxg32; Domain=.plot.ly; expires=Mon, 02-Mar-2020 15:09:16 GMT; Max-Age=31622400; Path=/; Secure\n",
      "header: Content-Encoding: gzip\n",
      "header: Via: 1.1 google\n",
      "header: Set-Cookie: plotly_csrf_pr=5MFKrwm44FshfK0hA3uxsNlqKlKoxg32; Domain=.plot.ly; expires=Mon, 02-Mar-2020 15:09:16 GMT; Max-Age=31622400; Path=/; Secure\n",
      "header: Alt-Svc: clear\n",
      "header: Transfer-Encoding: chunked\n"
     ]
    },
    {
     "data": {
      "text/html": [
       "<iframe id=\"igraph\" scrolling=\"no\" style=\"border:none;\" seamless=\"seamless\" src=\"https://plot.ly/~Aru2612/2.embed\" height=\"525px\" width=\"100%\"></iframe>"
      ],
      "text/plain": [
       "<plotly.tools.PlotlyDisplay object>"
      ]
     },
     "execution_count": 8,
     "metadata": {},
     "output_type": "execute_result"
    }
   ],
   "source": [
    "mapbox_access_token = 'pk.eyJ1IjoiYXJ1MjYxMiIsImEiOiJjanMwanVvcHgxZjg2M3luMTk2c2Z1ZnNvIn0.LJrZfEMS-mfe8nIOVqLziA'\n",
    "\n",
    "data = [\n",
    "    go.Scattermapbox(\n",
    "        lat=lat,\n",
    "        lon=lon,\n",
    "        mode='markers',\n",
    "        marker=dict(\n",
    "            size=9\n",
    "        ),\n",
    "        text=pc\n",
    "    )\n",
    "]\n",
    "\n",
    "layout = go.Layout(\n",
    "    autosize=True,\n",
    "    hovermode='closest',\n",
    "    mapbox=dict(\n",
    "        accesstoken=mapbox_access_token,\n",
    "        bearing=0,\n",
    "        center=dict(\n",
    "            lat=sum(lat)/float(len(lat)),\n",
    "            lon=sum(lon)/float(len(lon))\n",
    "        ),\n",
    "        pitch=0,\n",
    "        zoom=10\n",
    "    ),\n",
    ")\n",
    "\n",
    "fig = dict(data=data, layout=layout)\n",
    "py.iplot(fig, filename='Multiple Mapbox')"
   ]
  },
  {
   "cell_type": "markdown",
   "metadata": {},
   "source": [
    "#### Method 2:"
   ]
  },
  {
   "cell_type": "code",
   "execution_count": 9,
   "metadata": {},
   "outputs": [
    {
     "data": {
      "text/plain": [
       "\"\\npc=[]\\nfor i in range(len(lon)):\\n    data = api.get_nearest_postcodes_for_coordinates(latitude=lat[i],longitude=lon[i],radius=50,limit=1)\\n    pc.append(data['result'][0]['postcode'])\\n\""
      ]
     },
     "execution_count": 9,
     "metadata": {},
     "output_type": "execute_result"
    }
   ],
   "source": [
    "'''\n",
    "pc=[]\n",
    "for i in range(len(lon)):\n",
    "    data = api.get_nearest_postcodes_for_coordinates(latitude=lat[i],longitude=lon[i],radius=50,limit=1)\n",
    "    pc.append(data['result'][0]['postcode'])\n",
    "'''"
   ]
  }
 ],
 "metadata": {
  "kernelspec": {
   "display_name": "Python 3",
   "language": "python",
   "name": "python3"
  },
  "language_info": {
   "codemirror_mode": {
    "name": "ipython",
    "version": 3
   },
   "file_extension": ".py",
   "mimetype": "text/x-python",
   "name": "python",
   "nbconvert_exporter": "python",
   "pygments_lexer": "ipython3",
   "version": "3.7.1"
  }
 },
 "nbformat": 4,
 "nbformat_minor": 2
}
