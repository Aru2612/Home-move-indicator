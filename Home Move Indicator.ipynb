{
 "cells": [
  {
   "cell_type": "code",
   "execution_count": 1,
   "metadata": {},
   "outputs": [],
   "source": [
    "import warnings\n",
    "warnings.filterwarnings('ignore')"
   ]
  },
  {
   "cell_type": "code",
   "execution_count": 2,
   "metadata": {},
   "outputs": [],
   "source": [
    "from zoopla import Zoopla\n",
    "\n",
    "zoopla = Zoopla(api_key='gcstpjxbj29s2nzkmr9jnkgg')"
   ]
  },
  {
   "cell_type": "code",
   "execution_count": 3,
   "metadata": {},
   "outputs": [
    {
     "data": {
      "text/html": [
       "<center><img src=\"https://www.zoopla.co.uk/static/images/mashery/powered-by-zoopla-150x73.png\" width=\"150\" height=\"73\" title=\"Property information powered by Zoopla\" alt=\"Property information powered by Zoopla\" border=\"0\"></center>\n"
      ],
      "text/plain": [
       "<IPython.core.display.HTML object>"
      ]
     },
     "metadata": {},
     "output_type": "display_data"
    }
   ],
   "source": [
    "%%html\n",
    "<center><img src=\"https://www.zoopla.co.uk/static/images/mashery/powered-by-zoopla-150x73.png\" width=\"150\" height=\"73\" title=\"Property information powered by Zoopla\" alt=\"Property information powered by Zoopla\" border=\"0\"></center>"
   ]
  },
  {
   "cell_type": "code",
   "execution_count": 4,
   "metadata": {},
   "outputs": [],
   "source": [
    "import plotly.plotly as py\n",
    "import plotly.graph_objs as go"
   ]
  },
  {
   "cell_type": "code",
   "execution_count": 5,
   "metadata": {},
   "outputs": [],
   "source": [
    "import postcodes_io_api\n",
    "api  = postcodes_io_api.Api(debug_http=True)"
   ]
  },
  {
   "cell_type": "code",
   "execution_count": 6,
   "metadata": {},
   "outputs": [
    {
     "name": "stderr",
     "output_type": "stream",
     "text": [
      "DEBUG:urllib3.connectionpool:Starting new HTTP connection (1): api.zoopla.co.uk:80\n"
     ]
    },
    {
     "name": "stdout",
     "output_type": "stream",
     "text": [
      "send: b'GET /api/v1/property_listings.json?listing_status=sale&area=BN3&api_key=gcstpjxbj29s2nzkmr9jnkgg HTTP/1.1\\r\\nHost: api.zoopla.co.uk\\r\\nUser-Agent: python-requests/2.21.0\\r\\nAccept-Encoding: gzip, deflate\\r\\nAccept: */*\\r\\nConnection: keep-alive\\r\\n\\r\\n'\n"
     ]
    },
    {
     "name": "stderr",
     "output_type": "stream",
     "text": [
      "DEBUG:urllib3.connectionpool:http://api.zoopla.co.uk:80 \"GET /api/v1/property_listings.json?listing_status=sale&area=BN3&api_key=gcstpjxbj29s2nzkmr9jnkgg HTTP/1.1\" 200 None\n"
     ]
    },
    {
     "name": "stdout",
     "output_type": "stream",
     "text": [
      "reply: 'HTTP/1.1 200 OK\\r\\n'\n",
      "header: Content-Type: application/json; charset=utf-8\n",
      "header: Date: Mon, 25 Feb 2019 11:43:13 GMT\n",
      "header: Server: nginx\n",
      "header: transfer-encoding: chunked\n",
      "header: Connection: keep-alive\n"
     ]
    }
   ],
   "source": [
    "lon=[]\n",
    "lat=[]\n",
    "search = zoopla.property_listings({'listing_status': 'sale','area': 'BN3'});\n",
    "for result in search.listing:\n",
    "    lon.append(result.longitude)\n",
    "    lat.append(result.latitude)"
   ]
  },
  {
   "cell_type": "code",
   "execution_count": 7,
   "metadata": {
    "scrolled": true
   },
   "outputs": [
    {
     "name": "stderr",
     "output_type": "stream",
     "text": [
      "DEBUG:urllib3.connectionpool:Starting new HTTP connection (1): api.postcodes.io:80\n",
      "DEBUG:urllib3.connectionpool:http://api.postcodes.io:80 \"GET /postcodes?latitude=50.848557&longitude=-0.16704&radius=50&limit=1 HTTP/1.1\" 200 848\n"
     ]
    },
    {
     "name": "stdout",
     "output_type": "stream",
     "text": [
      "send: b'GET /postcodes?latitude=50.848557&longitude=-0.16704&radius=50&limit=1 HTTP/1.1\\r\\nHost: api.postcodes.io\\r\\nUser-Agent: python-requests/2.21.0\\r\\nAccept-Encoding: gzip, deflate\\r\\nAccept: */*\\r\\nConnection: keep-alive\\r\\n\\r\\n'\n",
      "reply: 'HTTP/1.1 200 OK\\r\\n'\n",
      "header: Server: nginx/1.14.0\n",
      "header: Date: Mon, 25 Feb 2019 11:43:14 GMT\n",
      "header: Content-Type: application/json; charset=utf-8\n",
      "header: Content-Length: 848\n",
      "header: Connection: keep-alive\n",
      "header: Access-Control-Allow-Origin: *\n",
      "header: ETag: W/\"350-WAt3B7dgbYcsq6eI1W3V1b4imEM\"\n",
      "header: X-GNU: Michael J Blanchard\n",
      "send: b'GET /postcodes?latitude=50.840557&longitude=-0.161033&radius=50&limit=1 HTTP/1.1\\r\\nHost: api.postcodes.io\\r\\nUser-Agent: python-requests/2.21.0\\r\\nAccept-Encoding: gzip, deflate\\r\\nAccept: */*\\r\\nConnection: keep-alive\\r\\n\\r\\n'\n"
     ]
    },
    {
     "name": "stderr",
     "output_type": "stream",
     "text": [
      "DEBUG:urllib3.connectionpool:http://api.postcodes.io:80 \"GET /postcodes?latitude=50.840557&longitude=-0.161033&radius=50&limit=1 HTTP/1.1\" 200 849\n",
      "DEBUG:urllib3.connectionpool:http://api.postcodes.io:80 \"GET /postcodes?latitude=50.823833&longitude=-0.157232&radius=50&limit=1 HTTP/1.1\" 200 853\n",
      "DEBUG:urllib3.connectionpool:http://api.postcodes.io:80 \"GET /postcodes?latitude=50.854057&longitude=-0.169638&radius=50&limit=1 HTTP/1.1\" 200 840\n",
      "DEBUG:urllib3.connectionpool:http://api.postcodes.io:80 \"GET /postcodes?latitude=50.827724&longitude=-0.184697&radius=50&limit=1 HTTP/1.1\" 200 850\n"
     ]
    },
    {
     "name": "stdout",
     "output_type": "stream",
     "text": [
      "reply: 'HTTP/1.1 200 OK\\r\\n'\n",
      "header: Server: nginx/1.14.0\n",
      "header: Date: Mon, 25 Feb 2019 11:43:14 GMT\n",
      "header: Content-Type: application/json; charset=utf-8\n",
      "header: Content-Length: 849\n",
      "header: Connection: keep-alive\n",
      "header: Access-Control-Allow-Origin: *\n",
      "header: ETag: W/\"351-PKwOR4Eighp/LTMNIfg9vdjUH2M\"\n",
      "header: X-GNU: Michael J Blanchard\n",
      "send: b'GET /postcodes?latitude=50.823833&longitude=-0.157232&radius=50&limit=1 HTTP/1.1\\r\\nHost: api.postcodes.io\\r\\nUser-Agent: python-requests/2.21.0\\r\\nAccept-Encoding: gzip, deflate\\r\\nAccept: */*\\r\\nConnection: keep-alive\\r\\n\\r\\n'\n",
      "reply: 'HTTP/1.1 200 OK\\r\\n'\n",
      "header: Server: nginx/1.14.0\n",
      "header: Date: Mon, 25 Feb 2019 11:43:14 GMT\n",
      "header: Content-Type: application/json; charset=utf-8\n",
      "header: Content-Length: 853\n",
      "header: Connection: keep-alive\n",
      "header: Access-Control-Allow-Origin: *\n",
      "header: ETag: W/\"355-C5T+Juyt70GY42gyeOpStblDWQ8\"\n",
      "header: X-GNU: Michael J Blanchard\n",
      "send: b'GET /postcodes?latitude=50.854057&longitude=-0.169638&radius=50&limit=1 HTTP/1.1\\r\\nHost: api.postcodes.io\\r\\nUser-Agent: python-requests/2.21.0\\r\\nAccept-Encoding: gzip, deflate\\r\\nAccept: */*\\r\\nConnection: keep-alive\\r\\n\\r\\n'\n",
      "reply: 'HTTP/1.1 200 OK\\r\\n'\n",
      "header: Server: nginx/1.14.0\n",
      "header: Date: Mon, 25 Feb 2019 11:43:14 GMT\n",
      "header: Content-Type: application/json; charset=utf-8\n",
      "header: Content-Length: 840\n",
      "header: Connection: keep-alive\n",
      "header: Access-Control-Allow-Origin: *\n",
      "header: ETag: W/\"348-WlIqP1H9QjVS7YNqBKPXOLtSuXY\"\n",
      "header: X-GNU: Michael J Blanchard\n",
      "send: b'GET /postcodes?latitude=50.827724&longitude=-0.184697&radius=50&limit=1 HTTP/1.1\\r\\nHost: api.postcodes.io\\r\\nUser-Agent: python-requests/2.21.0\\r\\nAccept-Encoding: gzip, deflate\\r\\nAccept: */*\\r\\nConnection: keep-alive\\r\\n\\r\\n'\n",
      "reply: 'HTTP/1.1 200 OK\\r\\n'\n",
      "header: Server: nginx/1.14.0\n",
      "header: Date: Mon, 25 Feb 2019 11:43:14 GMT\n",
      "header: Content-Type: application/json; charset=utf-8\n",
      "header: Content-Length: 850\n",
      "header: Connection: keep-alive\n",
      "header: Access-Control-Allow-Origin: *\n",
      "header: ETag: W/\"352-HI70l5maSt6s8k9+Vf3tA3D3Yac\"\n",
      "header: X-GNU: Michael J Blanchard\n"
     ]
    },
    {
     "name": "stderr",
     "output_type": "stream",
     "text": [
      "DEBUG:urllib3.connectionpool:http://api.postcodes.io:80 \"GET /postcodes?latitude=50.851288&longitude=-0.16905&radius=50&limit=1 HTTP/1.1\" 200 849\n",
      "DEBUG:urllib3.connectionpool:http://api.postcodes.io:80 \"GET /postcodes?latitude=50.835114&longitude=-0.160352&radius=50&limit=1 HTTP/1.1\" 200 848\n"
     ]
    },
    {
     "name": "stdout",
     "output_type": "stream",
     "text": [
      "send: b'GET /postcodes?latitude=50.851288&longitude=-0.16905&radius=50&limit=1 HTTP/1.1\\r\\nHost: api.postcodes.io\\r\\nUser-Agent: python-requests/2.21.0\\r\\nAccept-Encoding: gzip, deflate\\r\\nAccept: */*\\r\\nConnection: keep-alive\\r\\n\\r\\n'\n",
      "reply: 'HTTP/1.1 200 OK\\r\\n'\n",
      "header: Server: nginx/1.14.0\n",
      "header: Date: Mon, 25 Feb 2019 11:43:14 GMT\n",
      "header: Content-Type: application/json; charset=utf-8\n",
      "header: Content-Length: 849\n",
      "header: Connection: keep-alive\n",
      "header: Access-Control-Allow-Origin: *\n",
      "header: ETag: W/\"351-akNuOKSkhWooVOBJJakhGO+tv6o\"\n",
      "header: X-GNU: Michael J Blanchard\n",
      "send: b'GET /postcodes?latitude=50.835114&longitude=-0.160352&radius=50&limit=1 HTTP/1.1\\r\\nHost: api.postcodes.io\\r\\nUser-Agent: python-requests/2.21.0\\r\\nAccept-Encoding: gzip, deflate\\r\\nAccept: */*\\r\\nConnection: keep-alive\\r\\n\\r\\n'\n",
      "reply: 'HTTP/1.1 200 OK\\r\\n'\n",
      "header: Server: nginx/1.14.0\n",
      "header: Date: Mon, 25 Feb 2019 11:43:14 GMT\n",
      "header: Content-Type: application/json; charset=utf-8\n",
      "header: Content-Length: 848\n",
      "header: Connection: keep-alive\n",
      "header: Access-Control-Allow-Origin: *\n",
      "header: ETag: W/\"350-DKulIrXa085tkM/Ciy+lvhyVQl0\"\n",
      "header: X-GNU: Michael J Blanchard\n",
      "send: b'GET /postcodes?latitude=50.83811&longitude=-0.163757&radius=50&limit=1 HTTP/1.1\\r\\nHost: api.postcodes.io\\r\\nUser-Agent: python-requests/2.21.0\\r\\nAccept-Encoding: gzip, deflate\\r\\nAccept: */*\\r\\nConnection: keep-alive\\r\\n\\r\\n'\n"
     ]
    },
    {
     "name": "stderr",
     "output_type": "stream",
     "text": [
      "DEBUG:urllib3.connectionpool:http://api.postcodes.io:80 \"GET /postcodes?latitude=50.83811&longitude=-0.163757&radius=50&limit=1 HTTP/1.1\" 200 839\n",
      "DEBUG:urllib3.connectionpool:http://api.postcodes.io:80 \"GET /postcodes?latitude=50.848557&longitude=-0.16704&radius=50&limit=1 HTTP/1.1\" 200 848\n",
      "DEBUG:urllib3.connectionpool:http://api.postcodes.io:80 \"GET /postcodes?latitude=50.82507&longitude=-0.171765&radius=50&limit=1 HTTP/1.1\" 200 852\n"
     ]
    },
    {
     "name": "stdout",
     "output_type": "stream",
     "text": [
      "reply: 'HTTP/1.1 200 OK\\r\\n'\n",
      "header: Server: nginx/1.14.0\n",
      "header: Date: Mon, 25 Feb 2019 11:43:14 GMT\n",
      "header: Content-Type: application/json; charset=utf-8\n",
      "header: Content-Length: 839\n",
      "header: Connection: keep-alive\n",
      "header: Access-Control-Allow-Origin: *\n",
      "header: ETag: W/\"347-TfSEaSqQjSCKRhpsTF922/fiTRM\"\n",
      "header: X-GNU: Michael J Blanchard\n",
      "send: b'GET /postcodes?latitude=50.848557&longitude=-0.16704&radius=50&limit=1 HTTP/1.1\\r\\nHost: api.postcodes.io\\r\\nUser-Agent: python-requests/2.21.0\\r\\nAccept-Encoding: gzip, deflate\\r\\nAccept: */*\\r\\nConnection: keep-alive\\r\\n\\r\\n'\n",
      "reply: 'HTTP/1.1 200 OK\\r\\n'\n",
      "header: Server: nginx/1.14.0\n",
      "header: Date: Mon, 25 Feb 2019 11:43:14 GMT\n",
      "header: Content-Type: application/json; charset=utf-8\n",
      "header: Content-Length: 848\n",
      "header: Connection: keep-alive\n",
      "header: Access-Control-Allow-Origin: *\n",
      "header: ETag: W/\"350-WAt3B7dgbYcsq6eI1W3V1b4imEM\"\n",
      "header: X-GNU: Michael J Blanchard\n",
      "send: b'GET /postcodes?latitude=50.82507&longitude=-0.171765&radius=50&limit=1 HTTP/1.1\\r\\nHost: api.postcodes.io\\r\\nUser-Agent: python-requests/2.21.0\\r\\nAccept-Encoding: gzip, deflate\\r\\nAccept: */*\\r\\nConnection: keep-alive\\r\\n\\r\\n'\n",
      "reply: 'HTTP/1.1 200 OK\\r\\n'\n",
      "header: Server: nginx/1.14.0\n",
      "header: Date: Mon, 25 Feb 2019 11:43:14 GMT\n",
      "header: Content-Type: application/json; charset=utf-8\n",
      "header: Content-Length: 852\n",
      "header: Connection: keep-alive\n",
      "header: Access-Control-Allow-Origin: *\n",
      "header: ETag: W/\"354-XIHoxq9ygo6IptPz51A9q9Nlo20\"\n",
      "header: X-GNU: Michael J Blanchard\n"
     ]
    }
   ],
   "source": [
    "pc=[]\n",
    "for i in range(len(lon)):\n",
    "    data = api.get_nearest_postcodes_for_coordinates(latitude=lat[i],longitude=lon[i],radius=50,limit=1)\n",
    "    pc.append(data['result'][0]['postcode'])"
   ]
  },
  {
   "cell_type": "code",
   "execution_count": 8,
   "metadata": {
    "scrolled": false
   },
   "outputs": [
    {
     "name": "stderr",
     "output_type": "stream",
     "text": [
      "DEBUG:urllib3.connectionpool:Starting new HTTPS connection (1): plot.ly:443\n"
     ]
    },
    {
     "name": "stdout",
     "output_type": "stream",
     "text": [
      "send: b'POST /clientresp HTTP/1.1\\r\\nHost: plot.ly\\r\\nUser-Agent: python-requests/2.21.0\\r\\nAccept-Encoding: gzip, deflate\\r\\nAccept: */*\\r\\nConnection: keep-alive\\r\\nContent-Length: 1324\\r\\nContent-Type: application/x-www-form-urlencoded\\r\\n\\r\\n'\n",
      "send: b'platform=python&version=3.6.1&args=%5B%7B%22lat%22%3A+%5B50.848557%2C+50.840557%2C+50.823833%2C+50.854057%2C+50.827724%2C+50.851288%2C+50.835114%2C+50.83811%2C+50.848557%2C+50.82507%5D%2C+%22lon%22%3A+%5B-0.16704%2C+-0.161033%2C+-0.157232%2C+-0.169638%2C+-0.184697%2C+-0.16905%2C+-0.160352%2C+-0.163757%2C+-0.16704%2C+-0.171765%5D%2C+%22marker%22%3A+%7B%22size%22%3A+9%7D%2C+%22mode%22%3A+%22markers%22%2C+%22text%22%3A+%5B%22BN3+6TN%22%2C+%22BN3+6LD%22%2C+%22BN3+1AQ%22%2C+%22BN3+6RW%22%2C+%22BN3+4GQ%22%2C+%22BN3+6QL%22%2C+%22BN3+6FN%22%2C+%22BN3+6NN%22%2C+%22BN3+6TN%22%2C+%22BN3+2PG%22%5D%2C+%22type%22%3A+%22scattermapbox%22%2C+%22uid%22%3A+%222bd2c2e9-1307-4e59-ad96-a86e925617fd%22%7D%5D&un=Aru2612&key=lA1w1RERwMACsboka4fe&origin=plot&kwargs=%7B%22auto_open%22%3A+false%2C+%22filename%22%3A+%22Multiple+Mapbox%22%2C+%22fileopt%22%3A+%22overwrite%22%2C+%22layout%22%3A+%7B%22autosize%22%3A+true%2C+%22hovermode%22%3A+%22closest%22%2C+%22mapbox%22%3A+%7B%22accesstoken%22%3A+%22pk.eyJ1IjoiYXJ1MjYxMiIsImEiOiJjanMwanVvcHgxZjg2M3luMTk2c2Z1ZnNvIn0.LJrZfEMS-mfe8nIOVqLziA%22%2C+%22bearing%22%3A+0%2C+%22center%22%3A+%7B%22lat%22%3A+50.8392867%2C+%22lon%22%3A+-0.16716040000000001%7D%2C+%22pitch%22%3A+0%2C+%22zoom%22%3A+10%7D%7D%2C+%22sharing%22%3A+%22public%22%2C+%22validate%22%3A+true%2C+%22world_readable%22%3A+true%7D'\n"
     ]
    },
    {
     "name": "stderr",
     "output_type": "stream",
     "text": [
      "DEBUG:urllib3.connectionpool:https://plot.ly:443 \"POST /clientresp HTTP/1.1\" 200 None\n"
     ]
    },
    {
     "name": "stdout",
     "output_type": "stream",
     "text": [
      "reply: 'HTTP/1.1 200 OK\\r\\n'\n",
      "header: Server: nginx\n",
      "header: Date: Mon, 25 Feb 2019 11:43:16 GMT\n",
      "header: Content-Type: application/json\n",
      "header: Vary: Accept-Encoding\n",
      "header: x-xss-protection: 1; mode=block\n",
      "header: Content-Language: en\n",
      "header: x-content-type-options: nosniff\n",
      "header: strict-transport-security: max-age=31536000; includeSubDomains; preload\n",
      "header: Vary: Accept-Encoding\n",
      "header: X-Frame-Options: SAMEORIGIN\n",
      "header: Set-Cookie: plotly_sess_pr=14935od5jsr3vv87dnpq7m829ptfzh0t; Domain=.plot.ly; expires=Mon, 11-Mar-2019 11:43:16 GMT; httponly; Max-Age=1209600; Path=/; secure\n",
      "header: Set-Cookie: plotly_sess_pr=14935od5jsr3vv87dnpq7m829ptfzh0t; Domain=.plot.ly; expires=Mon, 11-Mar-2019 11:43:16 GMT; httponly; Max-Age=1209600; Path=/; secure\n",
      "header: Set-Cookie: plotly_sess_pr=14935od5jsr3vv87dnpq7m829ptfzh0t; Domain=.plot.ly; expires=Mon, 11-Mar-2019 11:43:16 GMT; httponly; Max-Age=1209600; Path=/; secure\n",
      "header: Content-Encoding: gzip\n",
      "header: Via: 1.1 google\n",
      "header: Set-Cookie: plotly_sess_pr=14935od5jsr3vv87dnpq7m829ptfzh0t; Domain=.plot.ly; expires=Mon, 11-Mar-2019 11:43:16 GMT; httponly; Max-Age=1209600; Path=/; secure\n",
      "header: Alt-Svc: clear\n",
      "header: Transfer-Encoding: chunked\n"
     ]
    },
    {
     "data": {
      "text/html": [
       "<iframe id=\"igraph\" scrolling=\"no\" style=\"border:none;\" seamless=\"seamless\" src=\"https://plot.ly/~Aru2612/2.embed\" height=\"525px\" width=\"100%\"></iframe>"
      ],
      "text/plain": [
       "<plotly.tools.PlotlyDisplay object>"
      ]
     },
     "execution_count": 8,
     "metadata": {},
     "output_type": "execute_result"
    }
   ],
   "source": [
    "mapbox_access_token = 'pk.eyJ1IjoiYXJ1MjYxMiIsImEiOiJjanMwanVvcHgxZjg2M3luMTk2c2Z1ZnNvIn0.LJrZfEMS-mfe8nIOVqLziA'\n",
    "\n",
    "data = [\n",
    "    go.Scattermapbox(\n",
    "        lat=lat,\n",
    "        lon=lon,\n",
    "        mode='markers',\n",
    "        marker=dict(\n",
    "            size=9\n",
    "        ),\n",
    "        text=pc\n",
    "    )\n",
    "]\n",
    "\n",
    "layout = go.Layout(\n",
    "    autosize=True,\n",
    "    hovermode='closest',\n",
    "    mapbox=dict(\n",
    "        accesstoken=mapbox_access_token,\n",
    "        bearing=0,\n",
    "        center=dict(\n",
    "            lat=sum(lat)/float(len(lat)),\n",
    "            lon=sum(lon)/float(len(lon))\n",
    "        ),\n",
    "        pitch=0,\n",
    "        zoom=10\n",
    "    ),\n",
    ")\n",
    "\n",
    "fig = dict(data=data, layout=layout)\n",
    "py.iplot(fig, filename='Multiple Mapbox')"
   ]
  }
 ],
 "metadata": {
  "kernelspec": {
   "display_name": "Python 3",
   "language": "python",
   "name": "python3"
  },
  "language_info": {
   "codemirror_mode": {
    "name": "ipython",
    "version": 3
   },
   "file_extension": ".py",
   "mimetype": "text/x-python",
   "name": "python",
   "nbconvert_exporter": "python",
   "pygments_lexer": "ipython3",
   "version": "3.7.1"
  }
 },
 "nbformat": 4,
 "nbformat_minor": 2
}
