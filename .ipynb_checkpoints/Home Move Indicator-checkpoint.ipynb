{
 "cells": [
  {
   "cell_type": "code",
   "execution_count": 1,
   "metadata": {},
   "outputs": [],
   "source": [
    "import warnings\n",
    "warnings.filterwarnings('ignore')"
   ]
  },
  {
   "cell_type": "code",
   "execution_count": 2,
   "metadata": {},
   "outputs": [],
   "source": [
    "from zoopla import Zoopla\n",
    "\n",
    "zoopla = Zoopla(api_key='gcstpjxbj29s2nzkmr9jnkgg')"
   ]
  },
  {
   "cell_type": "code",
   "execution_count": 3,
   "metadata": {},
   "outputs": [
    {
     "data": {
      "text/html": [
       "<center><img src=\"https://www.zoopla.co.uk/static/images/mashery/powered-by-zoopla-150x73.png\" width=\"150\" height=\"73\" title=\"Property information powered by Zoopla\" alt=\"Property information powered by Zoopla\" border=\"0\"></center>\n"
      ],
      "text/plain": [
       "<IPython.core.display.HTML object>"
      ]
     },
     "metadata": {},
     "output_type": "display_data"
    }
   ],
   "source": [
    "%%html\n",
    "<center><img src=\"https://www.zoopla.co.uk/static/images/mashery/powered-by-zoopla-150x73.png\" width=\"150\" height=\"73\" title=\"Property information powered by Zoopla\" alt=\"Property information powered by Zoopla\" border=\"0\"></center>"
   ]
  },
  {
   "cell_type": "code",
   "execution_count": 4,
   "metadata": {},
   "outputs": [],
   "source": [
    "import plotly.plotly as py\n",
    "import plotly.graph_objs as go"
   ]
  },
  {
   "cell_type": "code",
   "execution_count": null,
   "metadata": {},
   "outputs": [],
   "source": [
    "import postcodes_io_api\n",
    "api  = postcodes_io_api.Api(debug_http=True)"
   ]
  },
  {
   "cell_type": "code",
   "execution_count": null,
   "metadata": {},
   "outputs": [
    {
     "name": "stderr",
     "output_type": "stream",
     "text": [
      "DEBUG:urllib3.connectionpool:Starting new HTTP connection (1): api.zoopla.co.uk:80\n"
     ]
    },
    {
     "name": "stdout",
     "output_type": "stream",
     "text": [
      "send: b'GET /api/v1/property_listings.json?listing_status=sale&area=BN3&page_number=1&page_size=100&api_key=gcstpjxbj29s2nzkmr9jnkgg HTTP/1.1\\r\\nHost: api.zoopla.co.uk\\r\\nUser-Agent: python-requests/2.21.0\\r\\nAccept-Encoding: gzip, deflate\\r\\nAccept: */*\\r\\nConnection: keep-alive\\r\\n\\r\\n'\n"
     ]
    },
    {
     "name": "stderr",
     "output_type": "stream",
     "text": [
      "DEBUG:urllib3.connectionpool:http://api.zoopla.co.uk:80 \"GET /api/v1/property_listings.json?listing_status=sale&area=BN3&page_number=1&page_size=100&api_key=gcstpjxbj29s2nzkmr9jnkgg HTTP/1.1\" 200 None\n",
      "DEBUG:urllib3.connectionpool:Starting new HTTP connection (1): api.zoopla.co.uk:80\n"
     ]
    },
    {
     "name": "stdout",
     "output_type": "stream",
     "text": [
      "reply: 'HTTP/1.1 200 OK\\r\\n'\n",
      "header: Content-Type: application/json; charset=utf-8\n",
      "header: Date: Sat, 02 Mar 2019 15:06:56 GMT\n",
      "header: Server: nginx\n",
      "header: transfer-encoding: chunked\n",
      "header: Connection: keep-alive\n",
      "send: b'GET /api/v1/property_listings.json?listing_status=sale&area=BN3&page_number=1&page_size=100&api_key=gcstpjxbj29s2nzkmr9jnkgg HTTP/1.1\\r\\nHost: api.zoopla.co.uk\\r\\nUser-Agent: python-requests/2.21.0\\r\\nAccept-Encoding: gzip, deflate\\r\\nAccept: */*\\r\\nConnection: keep-alive\\r\\n\\r\\n'\n"
     ]
    },
    {
     "name": "stderr",
     "output_type": "stream",
     "text": [
      "DEBUG:urllib3.connectionpool:http://api.zoopla.co.uk:80 \"GET /api/v1/property_listings.json?listing_status=sale&area=BN3&page_number=1&page_size=100&api_key=gcstpjxbj29s2nzkmr9jnkgg HTTP/1.1\" 200 None\n",
      "DEBUG:urllib3.connectionpool:Starting new HTTP connection (1): api.zoopla.co.uk:80\n"
     ]
    },
    {
     "name": "stdout",
     "output_type": "stream",
     "text": [
      "reply: 'HTTP/1.1 200 OK\\r\\n'\n",
      "header: Content-Type: application/json; charset=utf-8\n",
      "header: Date: Sat, 02 Mar 2019 15:06:58 GMT\n",
      "header: Server: nginx\n",
      "header: transfer-encoding: chunked\n",
      "header: Connection: keep-alive\n",
      "send: b'GET /api/v1/property_listings.json?listing_status=sale&area=BN3&page_number=1&page_size=100&api_key=gcstpjxbj29s2nzkmr9jnkgg HTTP/1.1\\r\\nHost: api.zoopla.co.uk\\r\\nUser-Agent: python-requests/2.21.0\\r\\nAccept-Encoding: gzip, deflate\\r\\nAccept: */*\\r\\nConnection: keep-alive\\r\\n\\r\\n'\n"
     ]
    },
    {
     "name": "stderr",
     "output_type": "stream",
     "text": [
      "DEBUG:urllib3.connectionpool:http://api.zoopla.co.uk:80 \"GET /api/v1/property_listings.json?listing_status=sale&area=BN3&page_number=1&page_size=100&api_key=gcstpjxbj29s2nzkmr9jnkgg HTTP/1.1\" 200 None\n"
     ]
    },
    {
     "name": "stdout",
     "output_type": "stream",
     "text": [
      "reply: 'HTTP/1.1 200 OK\\r\\n'\n",
      "header: Content-Type: application/json; charset=utf-8\n",
      "header: Date: Sat, 02 Mar 2019 15:07:00 GMT\n",
      "header: Server: nginx\n",
      "header: transfer-encoding: chunked\n",
      "header: Connection: keep-alive\n"
     ]
    },
    {
     "name": "stderr",
     "output_type": "stream",
     "text": [
      "DEBUG:urllib3.connectionpool:Starting new HTTP connection (1): api.zoopla.co.uk:80\n"
     ]
    },
    {
     "name": "stdout",
     "output_type": "stream",
     "text": [
      "send: b'GET /api/v1/property_listings.json?listing_status=sale&area=BN3&page_number=1&page_size=100&api_key=gcstpjxbj29s2nzkmr9jnkgg HTTP/1.1\\r\\nHost: api.zoopla.co.uk\\r\\nUser-Agent: python-requests/2.21.0\\r\\nAccept-Encoding: gzip, deflate\\r\\nAccept: */*\\r\\nConnection: keep-alive\\r\\n\\r\\n'\n"
     ]
    },
    {
     "name": "stderr",
     "output_type": "stream",
     "text": [
      "DEBUG:urllib3.connectionpool:http://api.zoopla.co.uk:80 \"GET /api/v1/property_listings.json?listing_status=sale&area=BN3&page_number=1&page_size=100&api_key=gcstpjxbj29s2nzkmr9jnkgg HTTP/1.1\" 200 None\n"
     ]
    },
    {
     "name": "stdout",
     "output_type": "stream",
     "text": [
      "reply: 'HTTP/1.1 200 OK\\r\\n'\n",
      "header: Content-Type: application/json; charset=utf-8\n",
      "header: Date: Sat, 02 Mar 2019 15:07:01 GMT\n",
      "header: Server: nginx\n",
      "header: transfer-encoding: chunked\n",
      "header: Connection: keep-alive\n"
     ]
    },
    {
     "name": "stderr",
     "output_type": "stream",
     "text": [
      "DEBUG:urllib3.connectionpool:Starting new HTTP connection (1): api.zoopla.co.uk:80\n"
     ]
    },
    {
     "name": "stdout",
     "output_type": "stream",
     "text": [
      "send: b'GET /api/v1/property_listings.json?listing_status=sale&area=BN3&page_number=1&page_size=100&api_key=gcstpjxbj29s2nzkmr9jnkgg HTTP/1.1\\r\\nHost: api.zoopla.co.uk\\r\\nUser-Agent: python-requests/2.21.0\\r\\nAccept-Encoding: gzip, deflate\\r\\nAccept: */*\\r\\nConnection: keep-alive\\r\\n\\r\\n'\n"
     ]
    },
    {
     "name": "stderr",
     "output_type": "stream",
     "text": [
      "DEBUG:urllib3.connectionpool:http://api.zoopla.co.uk:80 \"GET /api/v1/property_listings.json?listing_status=sale&area=BN3&page_number=1&page_size=100&api_key=gcstpjxbj29s2nzkmr9jnkgg HTTP/1.1\" 200 None\n"
     ]
    },
    {
     "name": "stdout",
     "output_type": "stream",
     "text": [
      "reply: 'HTTP/1.1 200 OK\\r\\n'\n",
      "header: Content-Type: application/json; charset=utf-8\n",
      "header: Date: Sat, 02 Mar 2019 15:07:03 GMT\n",
      "header: Server: nginx\n",
      "header: transfer-encoding: chunked\n",
      "header: Connection: keep-alive\n"
     ]
    },
    {
     "name": "stderr",
     "output_type": "stream",
     "text": [
      "DEBUG:urllib3.connectionpool:Starting new HTTP connection (1): api.zoopla.co.uk:80\n"
     ]
    },
    {
     "name": "stdout",
     "output_type": "stream",
     "text": [
      "send: b'GET /api/v1/property_listings.json?listing_status=sale&area=BN3&page_number=1&page_size=100&api_key=gcstpjxbj29s2nzkmr9jnkgg HTTP/1.1\\r\\nHost: api.zoopla.co.uk\\r\\nUser-Agent: python-requests/2.21.0\\r\\nAccept-Encoding: gzip, deflate\\r\\nAccept: */*\\r\\nConnection: keep-alive\\r\\n\\r\\n'\n"
     ]
    },
    {
     "name": "stderr",
     "output_type": "stream",
     "text": [
      "DEBUG:urllib3.connectionpool:http://api.zoopla.co.uk:80 \"GET /api/v1/property_listings.json?listing_status=sale&area=BN3&page_number=1&page_size=100&api_key=gcstpjxbj29s2nzkmr9jnkgg HTTP/1.1\" 200 None\n"
     ]
    },
    {
     "name": "stdout",
     "output_type": "stream",
     "text": [
      "reply: 'HTTP/1.1 200 OK\\r\\n'\n",
      "header: Content-Type: application/json; charset=utf-8\n",
      "header: Date: Sat, 02 Mar 2019 15:07:04 GMT\n",
      "header: Server: nginx\n",
      "header: transfer-encoding: chunked\n",
      "header: Connection: keep-alive\n"
     ]
    },
    {
     "name": "stderr",
     "output_type": "stream",
     "text": [
      "DEBUG:urllib3.connectionpool:Starting new HTTP connection (1): api.zoopla.co.uk:80\n"
     ]
    },
    {
     "name": "stdout",
     "output_type": "stream",
     "text": [
      "send: b'GET /api/v1/property_listings.json?listing_status=sale&area=BN3&page_number=1&page_size=100&api_key=gcstpjxbj29s2nzkmr9jnkgg HTTP/1.1\\r\\nHost: api.zoopla.co.uk\\r\\nUser-Agent: python-requests/2.21.0\\r\\nAccept-Encoding: gzip, deflate\\r\\nAccept: */*\\r\\nConnection: keep-alive\\r\\n\\r\\n'\n"
     ]
    },
    {
     "name": "stderr",
     "output_type": "stream",
     "text": [
      "DEBUG:urllib3.connectionpool:http://api.zoopla.co.uk:80 \"GET /api/v1/property_listings.json?listing_status=sale&area=BN3&page_number=1&page_size=100&api_key=gcstpjxbj29s2nzkmr9jnkgg HTTP/1.1\" 200 None\n"
     ]
    },
    {
     "name": "stdout",
     "output_type": "stream",
     "text": [
      "reply: 'HTTP/1.1 200 OK\\r\\n'\n",
      "header: Content-Type: application/json; charset=utf-8\n",
      "header: Date: Sat, 02 Mar 2019 15:07:06 GMT\n",
      "header: Server: nginx\n",
      "header: transfer-encoding: chunked\n",
      "header: Connection: keep-alive\n"
     ]
    },
    {
     "name": "stderr",
     "output_type": "stream",
     "text": [
      "DEBUG:urllib3.connectionpool:Starting new HTTP connection (1): api.zoopla.co.uk:80\n"
     ]
    },
    {
     "name": "stdout",
     "output_type": "stream",
     "text": [
      "send: b'GET /api/v1/property_listings.json?listing_status=sale&area=BN3&page_number=1&page_size=100&api_key=gcstpjxbj29s2nzkmr9jnkgg HTTP/1.1\\r\\nHost: api.zoopla.co.uk\\r\\nUser-Agent: python-requests/2.21.0\\r\\nAccept-Encoding: gzip, deflate\\r\\nAccept: */*\\r\\nConnection: keep-alive\\r\\n\\r\\n'\n"
     ]
    },
    {
     "name": "stderr",
     "output_type": "stream",
     "text": [
      "DEBUG:urllib3.connectionpool:http://api.zoopla.co.uk:80 \"GET /api/v1/property_listings.json?listing_status=sale&area=BN3&page_number=1&page_size=100&api_key=gcstpjxbj29s2nzkmr9jnkgg HTTP/1.1\" 200 None\n"
     ]
    },
    {
     "name": "stdout",
     "output_type": "stream",
     "text": [
      "reply: 'HTTP/1.1 200 OK\\r\\n'\n",
      "header: Content-Type: application/json; charset=utf-8\n",
      "header: Date: Sat, 02 Mar 2019 15:07:08 GMT\n",
      "header: Server: nginx\n",
      "header: transfer-encoding: chunked\n",
      "header: Connection: keep-alive\n"
     ]
    },
    {
     "name": "stderr",
     "output_type": "stream",
     "text": [
      "DEBUG:urllib3.connectionpool:Starting new HTTP connection (1): api.zoopla.co.uk:80\n"
     ]
    },
    {
     "name": "stdout",
     "output_type": "stream",
     "text": [
      "send: b'GET /api/v1/property_listings.json?listing_status=sale&area=BN3&page_number=1&page_size=100&api_key=gcstpjxbj29s2nzkmr9jnkgg HTTP/1.1\\r\\nHost: api.zoopla.co.uk\\r\\nUser-Agent: python-requests/2.21.0\\r\\nAccept-Encoding: gzip, deflate\\r\\nAccept: */*\\r\\nConnection: keep-alive\\r\\n\\r\\n'\n"
     ]
    },
    {
     "name": "stderr",
     "output_type": "stream",
     "text": [
      "DEBUG:urllib3.connectionpool:http://api.zoopla.co.uk:80 \"GET /api/v1/property_listings.json?listing_status=sale&area=BN3&page_number=1&page_size=100&api_key=gcstpjxbj29s2nzkmr9jnkgg HTTP/1.1\" 200 None\n"
     ]
    },
    {
     "name": "stdout",
     "output_type": "stream",
     "text": [
      "reply: 'HTTP/1.1 200 OK\\r\\n'\n",
      "header: Content-Type: application/json; charset=utf-8\n",
      "header: Date: Sat, 02 Mar 2019 15:07:10 GMT\n",
      "header: Server: nginx\n",
      "header: transfer-encoding: chunked\n",
      "header: Connection: keep-alive\n"
     ]
    },
    {
     "name": "stderr",
     "output_type": "stream",
     "text": [
      "DEBUG:urllib3.connectionpool:Starting new HTTP connection (1): api.zoopla.co.uk:80\n"
     ]
    },
    {
     "name": "stdout",
     "output_type": "stream",
     "text": [
      "send: b'GET /api/v1/property_listings.json?listing_status=sale&area=BN3&page_number=1&page_size=100&api_key=gcstpjxbj29s2nzkmr9jnkgg HTTP/1.1\\r\\nHost: api.zoopla.co.uk\\r\\nUser-Agent: python-requests/2.21.0\\r\\nAccept-Encoding: gzip, deflate\\r\\nAccept: */*\\r\\nConnection: keep-alive\\r\\n\\r\\n'\n"
     ]
    },
    {
     "name": "stderr",
     "output_type": "stream",
     "text": [
      "DEBUG:urllib3.connectionpool:http://api.zoopla.co.uk:80 \"GET /api/v1/property_listings.json?listing_status=sale&area=BN3&page_number=1&page_size=100&api_key=gcstpjxbj29s2nzkmr9jnkgg HTTP/1.1\" 200 None\n"
     ]
    },
    {
     "name": "stdout",
     "output_type": "stream",
     "text": [
      "reply: 'HTTP/1.1 200 OK\\r\\n'\n",
      "header: Content-Type: application/json; charset=utf-8\n",
      "header: Date: Sat, 02 Mar 2019 15:07:12 GMT\n",
      "header: Server: nginx\n",
      "header: transfer-encoding: chunked\n",
      "header: Connection: keep-alive\n"
     ]
    },
    {
     "name": "stderr",
     "output_type": "stream",
     "text": [
      "DEBUG:urllib3.connectionpool:Starting new HTTP connection (1): api.zoopla.co.uk:80\n"
     ]
    },
    {
     "name": "stdout",
     "output_type": "stream",
     "text": [
      "send: b'GET /api/v1/property_listings.json?listing_status=sale&area=BN3&page_number=1&page_size=100&api_key=gcstpjxbj29s2nzkmr9jnkgg HTTP/1.1\\r\\nHost: api.zoopla.co.uk\\r\\nUser-Agent: python-requests/2.21.0\\r\\nAccept-Encoding: gzip, deflate\\r\\nAccept: */*\\r\\nConnection: keep-alive\\r\\n\\r\\n'\n"
     ]
    },
    {
     "name": "stderr",
     "output_type": "stream",
     "text": [
      "DEBUG:urllib3.connectionpool:http://api.zoopla.co.uk:80 \"GET /api/v1/property_listings.json?listing_status=sale&area=BN3&page_number=1&page_size=100&api_key=gcstpjxbj29s2nzkmr9jnkgg HTTP/1.1\" 200 None\n"
     ]
    },
    {
     "name": "stdout",
     "output_type": "stream",
     "text": [
      "reply: 'HTTP/1.1 200 OK\\r\\n'\n",
      "header: Content-Type: application/json; charset=utf-8\n",
      "header: Date: Sat, 02 Mar 2019 15:07:13 GMT\n",
      "header: Server: nginx\n",
      "header: transfer-encoding: chunked\n",
      "header: Connection: keep-alive\n"
     ]
    },
    {
     "name": "stderr",
     "output_type": "stream",
     "text": [
      "DEBUG:urllib3.connectionpool:Starting new HTTP connection (1): api.zoopla.co.uk:80\n"
     ]
    },
    {
     "name": "stdout",
     "output_type": "stream",
     "text": [
      "send: b'GET /api/v1/property_listings.json?listing_status=sale&area=BN3&page_number=1&page_size=100&api_key=gcstpjxbj29s2nzkmr9jnkgg HTTP/1.1\\r\\nHost: api.zoopla.co.uk\\r\\nUser-Agent: python-requests/2.21.0\\r\\nAccept-Encoding: gzip, deflate\\r\\nAccept: */*\\r\\nConnection: keep-alive\\r\\n\\r\\n'\n"
     ]
    },
    {
     "name": "stderr",
     "output_type": "stream",
     "text": [
      "DEBUG:urllib3.connectionpool:http://api.zoopla.co.uk:80 \"GET /api/v1/property_listings.json?listing_status=sale&area=BN3&page_number=1&page_size=100&api_key=gcstpjxbj29s2nzkmr9jnkgg HTTP/1.1\" 200 None\n"
     ]
    },
    {
     "name": "stdout",
     "output_type": "stream",
     "text": [
      "reply: 'HTTP/1.1 200 OK\\r\\n'\n",
      "header: Content-Type: application/json; charset=utf-8\n",
      "header: Date: Sat, 02 Mar 2019 15:07:15 GMT\n",
      "header: Server: nginx\n",
      "header: transfer-encoding: chunked\n",
      "header: Connection: keep-alive\n"
     ]
    },
    {
     "name": "stderr",
     "output_type": "stream",
     "text": [
      "DEBUG:urllib3.connectionpool:Starting new HTTP connection (1): api.zoopla.co.uk:80\n"
     ]
    },
    {
     "name": "stdout",
     "output_type": "stream",
     "text": [
      "send: b'GET /api/v1/property_listings.json?listing_status=sale&area=BN3&page_number=1&page_size=100&api_key=gcstpjxbj29s2nzkmr9jnkgg HTTP/1.1\\r\\nHost: api.zoopla.co.uk\\r\\nUser-Agent: python-requests/2.21.0\\r\\nAccept-Encoding: gzip, deflate\\r\\nAccept: */*\\r\\nConnection: keep-alive\\r\\n\\r\\n'\n"
     ]
    },
    {
     "name": "stderr",
     "output_type": "stream",
     "text": [
      "DEBUG:urllib3.connectionpool:http://api.zoopla.co.uk:80 \"GET /api/v1/property_listings.json?listing_status=sale&area=BN3&page_number=1&page_size=100&api_key=gcstpjxbj29s2nzkmr9jnkgg HTTP/1.1\" 200 None\n"
     ]
    },
    {
     "name": "stdout",
     "output_type": "stream",
     "text": [
      "reply: 'HTTP/1.1 200 OK\\r\\n'\n",
      "header: Content-Type: application/json; charset=utf-8\n",
      "header: Date: Sat, 02 Mar 2019 15:07:17 GMT\n",
      "header: Server: nginx\n",
      "header: transfer-encoding: chunked\n",
      "header: Connection: keep-alive\n"
     ]
    },
    {
     "name": "stderr",
     "output_type": "stream",
     "text": [
      "DEBUG:urllib3.connectionpool:Starting new HTTP connection (1): api.zoopla.co.uk:80\n"
     ]
    },
    {
     "name": "stdout",
     "output_type": "stream",
     "text": [
      "send: b'GET /api/v1/property_listings.json?listing_status=sale&area=BN3&page_number=1&page_size=100&api_key=gcstpjxbj29s2nzkmr9jnkgg HTTP/1.1\\r\\nHost: api.zoopla.co.uk\\r\\nUser-Agent: python-requests/2.21.0\\r\\nAccept-Encoding: gzip, deflate\\r\\nAccept: */*\\r\\nConnection: keep-alive\\r\\n\\r\\n'\n"
     ]
    },
    {
     "name": "stderr",
     "output_type": "stream",
     "text": [
      "DEBUG:urllib3.connectionpool:http://api.zoopla.co.uk:80 \"GET /api/v1/property_listings.json?listing_status=sale&area=BN3&page_number=1&page_size=100&api_key=gcstpjxbj29s2nzkmr9jnkgg HTTP/1.1\" 200 None\n"
     ]
    },
    {
     "name": "stdout",
     "output_type": "stream",
     "text": [
      "reply: 'HTTP/1.1 200 OK\\r\\n'\n",
      "header: Content-Type: application/json; charset=utf-8\n",
      "header: Date: Sat, 02 Mar 2019 15:07:18 GMT\n",
      "header: Server: nginx\n",
      "header: transfer-encoding: chunked\n",
      "header: Connection: keep-alive\n"
     ]
    },
    {
     "name": "stderr",
     "output_type": "stream",
     "text": [
      "DEBUG:urllib3.connectionpool:Starting new HTTP connection (1): api.zoopla.co.uk:80\n"
     ]
    },
    {
     "name": "stdout",
     "output_type": "stream",
     "text": [
      "send: b'GET /api/v1/property_listings.json?listing_status=sale&area=BN3&page_number=1&page_size=100&api_key=gcstpjxbj29s2nzkmr9jnkgg HTTP/1.1\\r\\nHost: api.zoopla.co.uk\\r\\nUser-Agent: python-requests/2.21.0\\r\\nAccept-Encoding: gzip, deflate\\r\\nAccept: */*\\r\\nConnection: keep-alive\\r\\n\\r\\n'\n"
     ]
    },
    {
     "name": "stderr",
     "output_type": "stream",
     "text": [
      "DEBUG:urllib3.connectionpool:http://api.zoopla.co.uk:80 \"GET /api/v1/property_listings.json?listing_status=sale&area=BN3&page_number=1&page_size=100&api_key=gcstpjxbj29s2nzkmr9jnkgg HTTP/1.1\" 200 None\n"
     ]
    },
    {
     "name": "stdout",
     "output_type": "stream",
     "text": [
      "reply: 'HTTP/1.1 200 OK\\r\\n'\n",
      "header: Content-Type: application/json; charset=utf-8\n",
      "header: Date: Sat, 02 Mar 2019 15:07:20 GMT\n",
      "header: Server: nginx\n",
      "header: transfer-encoding: chunked\n",
      "header: Connection: keep-alive\n"
     ]
    },
    {
     "name": "stderr",
     "output_type": "stream",
     "text": [
      "DEBUG:urllib3.connectionpool:Starting new HTTP connection (1): api.zoopla.co.uk:80\n"
     ]
    },
    {
     "name": "stdout",
     "output_type": "stream",
     "text": [
      "send: b'GET /api/v1/property_listings.json?listing_status=sale&area=BN3&page_number=1&page_size=100&api_key=gcstpjxbj29s2nzkmr9jnkgg HTTP/1.1\\r\\nHost: api.zoopla.co.uk\\r\\nUser-Agent: python-requests/2.21.0\\r\\nAccept-Encoding: gzip, deflate\\r\\nAccept: */*\\r\\nConnection: keep-alive\\r\\n\\r\\n'\n"
     ]
    },
    {
     "name": "stderr",
     "output_type": "stream",
     "text": [
      "DEBUG:urllib3.connectionpool:http://api.zoopla.co.uk:80 \"GET /api/v1/property_listings.json?listing_status=sale&area=BN3&page_number=1&page_size=100&api_key=gcstpjxbj29s2nzkmr9jnkgg HTTP/1.1\" 200 None\n"
     ]
    },
    {
     "name": "stdout",
     "output_type": "stream",
     "text": [
      "reply: 'HTTP/1.1 200 OK\\r\\n'\n",
      "header: Content-Type: application/json; charset=utf-8\n",
      "header: Date: Sat, 02 Mar 2019 15:07:22 GMT\n",
      "header: Server: nginx\n",
      "header: transfer-encoding: chunked\n",
      "header: Connection: keep-alive\n"
     ]
    },
    {
     "name": "stderr",
     "output_type": "stream",
     "text": [
      "DEBUG:urllib3.connectionpool:Starting new HTTP connection (1): api.zoopla.co.uk:80\n"
     ]
    },
    {
     "name": "stdout",
     "output_type": "stream",
     "text": [
      "send: b'GET /api/v1/property_listings.json?listing_status=sale&area=BN3&page_number=1&page_size=100&api_key=gcstpjxbj29s2nzkmr9jnkgg HTTP/1.1\\r\\nHost: api.zoopla.co.uk\\r\\nUser-Agent: python-requests/2.21.0\\r\\nAccept-Encoding: gzip, deflate\\r\\nAccept: */*\\r\\nConnection: keep-alive\\r\\n\\r\\n'\n"
     ]
    },
    {
     "name": "stderr",
     "output_type": "stream",
     "text": [
      "DEBUG:urllib3.connectionpool:http://api.zoopla.co.uk:80 \"GET /api/v1/property_listings.json?listing_status=sale&area=BN3&page_number=1&page_size=100&api_key=gcstpjxbj29s2nzkmr9jnkgg HTTP/1.1\" 200 None\n"
     ]
    },
    {
     "name": "stdout",
     "output_type": "stream",
     "text": [
      "reply: 'HTTP/1.1 200 OK\\r\\n'\n",
      "header: Content-Type: application/json; charset=utf-8\n",
      "header: Date: Sat, 02 Mar 2019 15:07:23 GMT\n",
      "header: Server: nginx\n",
      "header: transfer-encoding: chunked\n",
      "header: Connection: keep-alive\n"
     ]
    },
    {
     "name": "stderr",
     "output_type": "stream",
     "text": [
      "DEBUG:urllib3.connectionpool:Starting new HTTP connection (1): api.zoopla.co.uk:80\n"
     ]
    },
    {
     "name": "stdout",
     "output_type": "stream",
     "text": [
      "send: b'GET /api/v1/property_listings.json?listing_status=sale&area=BN3&page_number=1&page_size=100&api_key=gcstpjxbj29s2nzkmr9jnkgg HTTP/1.1\\r\\nHost: api.zoopla.co.uk\\r\\nUser-Agent: python-requests/2.21.0\\r\\nAccept-Encoding: gzip, deflate\\r\\nAccept: */*\\r\\nConnection: keep-alive\\r\\n\\r\\n'\n"
     ]
    },
    {
     "name": "stderr",
     "output_type": "stream",
     "text": [
      "DEBUG:urllib3.connectionpool:http://api.zoopla.co.uk:80 \"GET /api/v1/property_listings.json?listing_status=sale&area=BN3&page_number=1&page_size=100&api_key=gcstpjxbj29s2nzkmr9jnkgg HTTP/1.1\" 200 None\n"
     ]
    },
    {
     "name": "stdout",
     "output_type": "stream",
     "text": [
      "reply: 'HTTP/1.1 200 OK\\r\\n'\n",
      "header: Content-Type: application/json; charset=utf-8\n",
      "header: Date: Sat, 02 Mar 2019 15:07:25 GMT\n",
      "header: Server: nginx\n",
      "header: transfer-encoding: chunked\n",
      "header: Connection: keep-alive\n"
     ]
    },
    {
     "name": "stderr",
     "output_type": "stream",
     "text": [
      "DEBUG:urllib3.connectionpool:Starting new HTTP connection (1): api.zoopla.co.uk:80\n"
     ]
    },
    {
     "name": "stdout",
     "output_type": "stream",
     "text": [
      "send: b'GET /api/v1/property_listings.json?listing_status=sale&area=BN3&page_number=1&page_size=100&api_key=gcstpjxbj29s2nzkmr9jnkgg HTTP/1.1\\r\\nHost: api.zoopla.co.uk\\r\\nUser-Agent: python-requests/2.21.0\\r\\nAccept-Encoding: gzip, deflate\\r\\nAccept: */*\\r\\nConnection: keep-alive\\r\\n\\r\\n'\n"
     ]
    },
    {
     "name": "stderr",
     "output_type": "stream",
     "text": [
      "DEBUG:urllib3.connectionpool:http://api.zoopla.co.uk:80 \"GET /api/v1/property_listings.json?listing_status=sale&area=BN3&page_number=1&page_size=100&api_key=gcstpjxbj29s2nzkmr9jnkgg HTTP/1.1\" 200 None\n"
     ]
    },
    {
     "name": "stdout",
     "output_type": "stream",
     "text": [
      "reply: 'HTTP/1.1 200 OK\\r\\n'\n",
      "header: Content-Type: application/json; charset=utf-8\n",
      "header: Date: Sat, 02 Mar 2019 15:07:26 GMT\n",
      "header: Server: nginx\n",
      "header: transfer-encoding: chunked\n",
      "header: Connection: keep-alive\n"
     ]
    },
    {
     "name": "stderr",
     "output_type": "stream",
     "text": [
      "DEBUG:urllib3.connectionpool:Starting new HTTP connection (1): api.zoopla.co.uk:80\n"
     ]
    },
    {
     "name": "stdout",
     "output_type": "stream",
     "text": [
      "send: b'GET /api/v1/property_listings.json?listing_status=sale&area=BN3&page_number=1&page_size=100&api_key=gcstpjxbj29s2nzkmr9jnkgg HTTP/1.1\\r\\nHost: api.zoopla.co.uk\\r\\nUser-Agent: python-requests/2.21.0\\r\\nAccept-Encoding: gzip, deflate\\r\\nAccept: */*\\r\\nConnection: keep-alive\\r\\n\\r\\n'\n"
     ]
    },
    {
     "name": "stderr",
     "output_type": "stream",
     "text": [
      "DEBUG:urllib3.connectionpool:http://api.zoopla.co.uk:80 \"GET /api/v1/property_listings.json?listing_status=sale&area=BN3&page_number=1&page_size=100&api_key=gcstpjxbj29s2nzkmr9jnkgg HTTP/1.1\" 200 None\n"
     ]
    },
    {
     "name": "stdout",
     "output_type": "stream",
     "text": [
      "reply: 'HTTP/1.1 200 OK\\r\\n'\n",
      "header: Content-Type: application/json; charset=utf-8\n",
      "header: Date: Sat, 02 Mar 2019 15:07:28 GMT\n",
      "header: Server: nginx\n",
      "header: transfer-encoding: chunked\n",
      "header: Connection: keep-alive\n"
     ]
    },
    {
     "name": "stderr",
     "output_type": "stream",
     "text": [
      "DEBUG:urllib3.connectionpool:Starting new HTTP connection (1): api.zoopla.co.uk:80\n"
     ]
    },
    {
     "name": "stdout",
     "output_type": "stream",
     "text": [
      "send: b'GET /api/v1/property_listings.json?listing_status=sale&area=BN3&page_number=1&page_size=100&api_key=gcstpjxbj29s2nzkmr9jnkgg HTTP/1.1\\r\\nHost: api.zoopla.co.uk\\r\\nUser-Agent: python-requests/2.21.0\\r\\nAccept-Encoding: gzip, deflate\\r\\nAccept: */*\\r\\nConnection: keep-alive\\r\\n\\r\\n'\n"
     ]
    },
    {
     "name": "stderr",
     "output_type": "stream",
     "text": [
      "DEBUG:urllib3.connectionpool:http://api.zoopla.co.uk:80 \"GET /api/v1/property_listings.json?listing_status=sale&area=BN3&page_number=1&page_size=100&api_key=gcstpjxbj29s2nzkmr9jnkgg HTTP/1.1\" 200 None\n"
     ]
    },
    {
     "name": "stdout",
     "output_type": "stream",
     "text": [
      "reply: 'HTTP/1.1 200 OK\\r\\n'\n",
      "header: Content-Type: application/json; charset=utf-8\n",
      "header: Date: Sat, 02 Mar 2019 15:07:30 GMT\n",
      "header: Server: nginx\n",
      "header: transfer-encoding: chunked\n",
      "header: Connection: keep-alive\n"
     ]
    },
    {
     "name": "stderr",
     "output_type": "stream",
     "text": [
      "DEBUG:urllib3.connectionpool:Starting new HTTP connection (1): api.zoopla.co.uk:80\n"
     ]
    },
    {
     "name": "stdout",
     "output_type": "stream",
     "text": [
      "send: b'GET /api/v1/property_listings.json?listing_status=sale&area=BN3&page_number=1&page_size=100&api_key=gcstpjxbj29s2nzkmr9jnkgg HTTP/1.1\\r\\nHost: api.zoopla.co.uk\\r\\nUser-Agent: python-requests/2.21.0\\r\\nAccept-Encoding: gzip, deflate\\r\\nAccept: */*\\r\\nConnection: keep-alive\\r\\n\\r\\n'\n"
     ]
    },
    {
     "name": "stderr",
     "output_type": "stream",
     "text": [
      "DEBUG:urllib3.connectionpool:http://api.zoopla.co.uk:80 \"GET /api/v1/property_listings.json?listing_status=sale&area=BN3&page_number=1&page_size=100&api_key=gcstpjxbj29s2nzkmr9jnkgg HTTP/1.1\" 200 None\n"
     ]
    },
    {
     "name": "stdout",
     "output_type": "stream",
     "text": [
      "reply: 'HTTP/1.1 200 OK\\r\\n'\n",
      "header: Content-Type: application/json; charset=utf-8\n",
      "header: Date: Sat, 02 Mar 2019 15:07:32 GMT\n",
      "header: Server: nginx\n",
      "header: transfer-encoding: chunked\n",
      "header: Connection: keep-alive\n"
     ]
    },
    {
     "name": "stderr",
     "output_type": "stream",
     "text": [
      "DEBUG:urllib3.connectionpool:Starting new HTTP connection (1): api.zoopla.co.uk:80\n"
     ]
    },
    {
     "name": "stdout",
     "output_type": "stream",
     "text": [
      "send: b'GET /api/v1/property_listings.json?listing_status=sale&area=BN3&page_number=1&page_size=100&api_key=gcstpjxbj29s2nzkmr9jnkgg HTTP/1.1\\r\\nHost: api.zoopla.co.uk\\r\\nUser-Agent: python-requests/2.21.0\\r\\nAccept-Encoding: gzip, deflate\\r\\nAccept: */*\\r\\nConnection: keep-alive\\r\\n\\r\\n'\n"
     ]
    },
    {
     "name": "stderr",
     "output_type": "stream",
     "text": [
      "DEBUG:urllib3.connectionpool:http://api.zoopla.co.uk:80 \"GET /api/v1/property_listings.json?listing_status=sale&area=BN3&page_number=1&page_size=100&api_key=gcstpjxbj29s2nzkmr9jnkgg HTTP/1.1\" 200 None\n"
     ]
    },
    {
     "name": "stdout",
     "output_type": "stream",
     "text": [
      "reply: 'HTTP/1.1 200 OK\\r\\n'\n",
      "header: Content-Type: application/json; charset=utf-8\n",
      "header: Date: Sat, 02 Mar 2019 15:07:33 GMT\n",
      "header: Server: nginx\n",
      "header: transfer-encoding: chunked\n",
      "header: Connection: keep-alive\n"
     ]
    },
    {
     "name": "stderr",
     "output_type": "stream",
     "text": [
      "DEBUG:urllib3.connectionpool:Starting new HTTP connection (1): api.zoopla.co.uk:80\n"
     ]
    },
    {
     "name": "stdout",
     "output_type": "stream",
     "text": [
      "send: b'GET /api/v1/property_listings.json?listing_status=sale&area=BN3&page_number=1&page_size=100&api_key=gcstpjxbj29s2nzkmr9jnkgg HTTP/1.1\\r\\nHost: api.zoopla.co.uk\\r\\nUser-Agent: python-requests/2.21.0\\r\\nAccept-Encoding: gzip, deflate\\r\\nAccept: */*\\r\\nConnection: keep-alive\\r\\n\\r\\n'\n"
     ]
    },
    {
     "name": "stderr",
     "output_type": "stream",
     "text": [
      "DEBUG:urllib3.connectionpool:http://api.zoopla.co.uk:80 \"GET /api/v1/property_listings.json?listing_status=sale&area=BN3&page_number=1&page_size=100&api_key=gcstpjxbj29s2nzkmr9jnkgg HTTP/1.1\" 200 None\n"
     ]
    },
    {
     "name": "stdout",
     "output_type": "stream",
     "text": [
      "reply: 'HTTP/1.1 200 OK\\r\\n'\n",
      "header: Content-Type: application/json; charset=utf-8\n",
      "header: Date: Sat, 02 Mar 2019 15:07:35 GMT\n",
      "header: Server: nginx\n",
      "header: transfer-encoding: chunked\n",
      "header: Connection: keep-alive\n"
     ]
    },
    {
     "name": "stderr",
     "output_type": "stream",
     "text": [
      "DEBUG:urllib3.connectionpool:Starting new HTTP connection (1): api.zoopla.co.uk:80\n"
     ]
    },
    {
     "name": "stdout",
     "output_type": "stream",
     "text": [
      "send: b'GET /api/v1/property_listings.json?listing_status=sale&area=BN3&page_number=1&page_size=100&api_key=gcstpjxbj29s2nzkmr9jnkgg HTTP/1.1\\r\\nHost: api.zoopla.co.uk\\r\\nUser-Agent: python-requests/2.21.0\\r\\nAccept-Encoding: gzip, deflate\\r\\nAccept: */*\\r\\nConnection: keep-alive\\r\\n\\r\\n'\n"
     ]
    },
    {
     "name": "stderr",
     "output_type": "stream",
     "text": [
      "DEBUG:urllib3.connectionpool:http://api.zoopla.co.uk:80 \"GET /api/v1/property_listings.json?listing_status=sale&area=BN3&page_number=1&page_size=100&api_key=gcstpjxbj29s2nzkmr9jnkgg HTTP/1.1\" 200 None\n"
     ]
    },
    {
     "name": "stdout",
     "output_type": "stream",
     "text": [
      "reply: 'HTTP/1.1 200 OK\\r\\n'\n",
      "header: Content-Type: application/json; charset=utf-8\n",
      "header: Date: Sat, 02 Mar 2019 15:07:37 GMT\n",
      "header: Server: nginx\n",
      "header: transfer-encoding: chunked\n",
      "header: Connection: keep-alive\n"
     ]
    },
    {
     "name": "stderr",
     "output_type": "stream",
     "text": [
      "DEBUG:urllib3.connectionpool:Starting new HTTP connection (1): api.zoopla.co.uk:80\n"
     ]
    },
    {
     "name": "stdout",
     "output_type": "stream",
     "text": [
      "send: b'GET /api/v1/property_listings.json?listing_status=sale&area=BN3&page_number=1&page_size=100&api_key=gcstpjxbj29s2nzkmr9jnkgg HTTP/1.1\\r\\nHost: api.zoopla.co.uk\\r\\nUser-Agent: python-requests/2.21.0\\r\\nAccept-Encoding: gzip, deflate\\r\\nAccept: */*\\r\\nConnection: keep-alive\\r\\n\\r\\n'\n"
     ]
    },
    {
     "name": "stderr",
     "output_type": "stream",
     "text": [
      "DEBUG:urllib3.connectionpool:http://api.zoopla.co.uk:80 \"GET /api/v1/property_listings.json?listing_status=sale&area=BN3&page_number=1&page_size=100&api_key=gcstpjxbj29s2nzkmr9jnkgg HTTP/1.1\" 200 None\n"
     ]
    },
    {
     "name": "stdout",
     "output_type": "stream",
     "text": [
      "reply: 'HTTP/1.1 200 OK\\r\\n'\n",
      "header: Content-Type: application/json; charset=utf-8\n",
      "header: Date: Sat, 02 Mar 2019 15:07:39 GMT\n",
      "header: Server: nginx\n",
      "header: transfer-encoding: chunked\n",
      "header: Connection: keep-alive\n"
     ]
    },
    {
     "name": "stderr",
     "output_type": "stream",
     "text": [
      "DEBUG:urllib3.connectionpool:Starting new HTTP connection (1): api.zoopla.co.uk:80\n"
     ]
    },
    {
     "name": "stdout",
     "output_type": "stream",
     "text": [
      "send: b'GET /api/v1/property_listings.json?listing_status=sale&area=BN3&page_number=1&page_size=100&api_key=gcstpjxbj29s2nzkmr9jnkgg HTTP/1.1\\r\\nHost: api.zoopla.co.uk\\r\\nUser-Agent: python-requests/2.21.0\\r\\nAccept-Encoding: gzip, deflate\\r\\nAccept: */*\\r\\nConnection: keep-alive\\r\\n\\r\\n'\n"
     ]
    },
    {
     "name": "stderr",
     "output_type": "stream",
     "text": [
      "DEBUG:urllib3.connectionpool:http://api.zoopla.co.uk:80 \"GET /api/v1/property_listings.json?listing_status=sale&area=BN3&page_number=1&page_size=100&api_key=gcstpjxbj29s2nzkmr9jnkgg HTTP/1.1\" 200 None\n"
     ]
    },
    {
     "name": "stdout",
     "output_type": "stream",
     "text": [
      "reply: 'HTTP/1.1 200 OK\\r\\n'\n",
      "header: Content-Type: application/json; charset=utf-8\n",
      "header: Date: Sat, 02 Mar 2019 15:07:40 GMT\n",
      "header: Server: nginx\n",
      "header: transfer-encoding: chunked\n",
      "header: Connection: keep-alive\n"
     ]
    },
    {
     "name": "stderr",
     "output_type": "stream",
     "text": [
      "DEBUG:urllib3.connectionpool:Starting new HTTP connection (1): api.zoopla.co.uk:80\n"
     ]
    },
    {
     "name": "stdout",
     "output_type": "stream",
     "text": [
      "send: b'GET /api/v1/property_listings.json?listing_status=sale&area=BN3&page_number=1&page_size=100&api_key=gcstpjxbj29s2nzkmr9jnkgg HTTP/1.1\\r\\nHost: api.zoopla.co.uk\\r\\nUser-Agent: python-requests/2.21.0\\r\\nAccept-Encoding: gzip, deflate\\r\\nAccept: */*\\r\\nConnection: keep-alive\\r\\n\\r\\n'\n"
     ]
    },
    {
     "name": "stderr",
     "output_type": "stream",
     "text": [
      "DEBUG:urllib3.connectionpool:http://api.zoopla.co.uk:80 \"GET /api/v1/property_listings.json?listing_status=sale&area=BN3&page_number=1&page_size=100&api_key=gcstpjxbj29s2nzkmr9jnkgg HTTP/1.1\" 200 None\n"
     ]
    },
    {
     "name": "stdout",
     "output_type": "stream",
     "text": [
      "reply: 'HTTP/1.1 200 OK\\r\\n'\n",
      "header: Content-Type: application/json; charset=utf-8\n",
      "header: Date: Sat, 02 Mar 2019 15:07:42 GMT\n",
      "header: Server: nginx\n",
      "header: transfer-encoding: chunked\n",
      "header: Connection: keep-alive\n"
     ]
    },
    {
     "name": "stderr",
     "output_type": "stream",
     "text": [
      "DEBUG:urllib3.connectionpool:Starting new HTTP connection (1): api.zoopla.co.uk:80\n"
     ]
    },
    {
     "name": "stdout",
     "output_type": "stream",
     "text": [
      "send: b'GET /api/v1/property_listings.json?listing_status=sale&area=BN3&page_number=1&page_size=100&api_key=gcstpjxbj29s2nzkmr9jnkgg HTTP/1.1\\r\\nHost: api.zoopla.co.uk\\r\\nUser-Agent: python-requests/2.21.0\\r\\nAccept-Encoding: gzip, deflate\\r\\nAccept: */*\\r\\nConnection: keep-alive\\r\\n\\r\\n'\n"
     ]
    },
    {
     "name": "stderr",
     "output_type": "stream",
     "text": [
      "DEBUG:urllib3.connectionpool:http://api.zoopla.co.uk:80 \"GET /api/v1/property_listings.json?listing_status=sale&area=BN3&page_number=1&page_size=100&api_key=gcstpjxbj29s2nzkmr9jnkgg HTTP/1.1\" 200 None\n"
     ]
    },
    {
     "name": "stdout",
     "output_type": "stream",
     "text": [
      "reply: 'HTTP/1.1 200 OK\\r\\n'\n",
      "header: Content-Type: application/json; charset=utf-8\n",
      "header: Date: Sat, 02 Mar 2019 15:07:43 GMT\n",
      "header: Server: nginx\n",
      "header: transfer-encoding: chunked\n",
      "header: Connection: keep-alive\n"
     ]
    },
    {
     "name": "stderr",
     "output_type": "stream",
     "text": [
      "DEBUG:urllib3.connectionpool:Starting new HTTP connection (1): api.zoopla.co.uk:80\n"
     ]
    },
    {
     "name": "stdout",
     "output_type": "stream",
     "text": [
      "send: b'GET /api/v1/property_listings.json?listing_status=sale&area=BN3&page_number=1&page_size=100&api_key=gcstpjxbj29s2nzkmr9jnkgg HTTP/1.1\\r\\nHost: api.zoopla.co.uk\\r\\nUser-Agent: python-requests/2.21.0\\r\\nAccept-Encoding: gzip, deflate\\r\\nAccept: */*\\r\\nConnection: keep-alive\\r\\n\\r\\n'\n"
     ]
    },
    {
     "name": "stderr",
     "output_type": "stream",
     "text": [
      "DEBUG:urllib3.connectionpool:http://api.zoopla.co.uk:80 \"GET /api/v1/property_listings.json?listing_status=sale&area=BN3&page_number=1&page_size=100&api_key=gcstpjxbj29s2nzkmr9jnkgg HTTP/1.1\" 200 None\n"
     ]
    },
    {
     "name": "stdout",
     "output_type": "stream",
     "text": [
      "reply: 'HTTP/1.1 200 OK\\r\\n'\n",
      "header: Content-Type: application/json; charset=utf-8\n",
      "header: Date: Sat, 02 Mar 2019 15:07:45 GMT\n",
      "header: Server: nginx\n",
      "header: transfer-encoding: chunked\n",
      "header: Connection: keep-alive\n"
     ]
    },
    {
     "name": "stderr",
     "output_type": "stream",
     "text": [
      "DEBUG:urllib3.connectionpool:Starting new HTTP connection (1): api.zoopla.co.uk:80\n"
     ]
    },
    {
     "name": "stdout",
     "output_type": "stream",
     "text": [
      "send: b'GET /api/v1/property_listings.json?listing_status=sale&area=BN3&page_number=1&page_size=100&api_key=gcstpjxbj29s2nzkmr9jnkgg HTTP/1.1\\r\\nHost: api.zoopla.co.uk\\r\\nUser-Agent: python-requests/2.21.0\\r\\nAccept-Encoding: gzip, deflate\\r\\nAccept: */*\\r\\nConnection: keep-alive\\r\\n\\r\\n'\n"
     ]
    },
    {
     "name": "stderr",
     "output_type": "stream",
     "text": [
      "DEBUG:urllib3.connectionpool:http://api.zoopla.co.uk:80 \"GET /api/v1/property_listings.json?listing_status=sale&area=BN3&page_number=1&page_size=100&api_key=gcstpjxbj29s2nzkmr9jnkgg HTTP/1.1\" 200 None\n"
     ]
    },
    {
     "name": "stdout",
     "output_type": "stream",
     "text": [
      "reply: 'HTTP/1.1 200 OK\\r\\n'\n",
      "header: Content-Type: application/json; charset=utf-8\n",
      "header: Date: Sat, 02 Mar 2019 15:07:47 GMT\n",
      "header: Server: nginx\n",
      "header: transfer-encoding: chunked\n",
      "header: Connection: keep-alive\n"
     ]
    },
    {
     "name": "stderr",
     "output_type": "stream",
     "text": [
      "DEBUG:urllib3.connectionpool:Starting new HTTP connection (1): api.zoopla.co.uk:80\n"
     ]
    },
    {
     "name": "stdout",
     "output_type": "stream",
     "text": [
      "send: b'GET /api/v1/property_listings.json?listing_status=sale&area=BN3&page_number=1&page_size=100&api_key=gcstpjxbj29s2nzkmr9jnkgg HTTP/1.1\\r\\nHost: api.zoopla.co.uk\\r\\nUser-Agent: python-requests/2.21.0\\r\\nAccept-Encoding: gzip, deflate\\r\\nAccept: */*\\r\\nConnection: keep-alive\\r\\n\\r\\n'\n"
     ]
    },
    {
     "name": "stderr",
     "output_type": "stream",
     "text": [
      "DEBUG:urllib3.connectionpool:http://api.zoopla.co.uk:80 \"GET /api/v1/property_listings.json?listing_status=sale&area=BN3&page_number=1&page_size=100&api_key=gcstpjxbj29s2nzkmr9jnkgg HTTP/1.1\" 200 None\n"
     ]
    },
    {
     "name": "stdout",
     "output_type": "stream",
     "text": [
      "reply: 'HTTP/1.1 200 OK\\r\\n'\n",
      "header: Content-Type: application/json; charset=utf-8\n",
      "header: Date: Sat, 02 Mar 2019 15:07:48 GMT\n",
      "header: Server: nginx\n",
      "header: transfer-encoding: chunked\n",
      "header: Connection: keep-alive\n"
     ]
    },
    {
     "name": "stderr",
     "output_type": "stream",
     "text": [
      "DEBUG:urllib3.connectionpool:Starting new HTTP connection (1): api.zoopla.co.uk:80\n"
     ]
    },
    {
     "name": "stdout",
     "output_type": "stream",
     "text": [
      "send: b'GET /api/v1/property_listings.json?listing_status=sale&area=BN3&page_number=1&page_size=100&api_key=gcstpjxbj29s2nzkmr9jnkgg HTTP/1.1\\r\\nHost: api.zoopla.co.uk\\r\\nUser-Agent: python-requests/2.21.0\\r\\nAccept-Encoding: gzip, deflate\\r\\nAccept: */*\\r\\nConnection: keep-alive\\r\\n\\r\\n'\n"
     ]
    },
    {
     "name": "stderr",
     "output_type": "stream",
     "text": [
      "DEBUG:urllib3.connectionpool:http://api.zoopla.co.uk:80 \"GET /api/v1/property_listings.json?listing_status=sale&area=BN3&page_number=1&page_size=100&api_key=gcstpjxbj29s2nzkmr9jnkgg HTTP/1.1\" 200 None\n"
     ]
    },
    {
     "name": "stdout",
     "output_type": "stream",
     "text": [
      "reply: 'HTTP/1.1 200 OK\\r\\n'\n",
      "header: Content-Type: application/json; charset=utf-8\n",
      "header: Date: Sat, 02 Mar 2019 15:07:50 GMT\n",
      "header: Server: nginx\n",
      "header: transfer-encoding: chunked\n",
      "header: Connection: keep-alive\n"
     ]
    },
    {
     "name": "stderr",
     "output_type": "stream",
     "text": [
      "DEBUG:urllib3.connectionpool:Starting new HTTP connection (1): api.zoopla.co.uk:80\n"
     ]
    },
    {
     "name": "stdout",
     "output_type": "stream",
     "text": [
      "send: b'GET /api/v1/property_listings.json?listing_status=sale&area=BN3&page_number=1&page_size=100&api_key=gcstpjxbj29s2nzkmr9jnkgg HTTP/1.1\\r\\nHost: api.zoopla.co.uk\\r\\nUser-Agent: python-requests/2.21.0\\r\\nAccept-Encoding: gzip, deflate\\r\\nAccept: */*\\r\\nConnection: keep-alive\\r\\n\\r\\n'\n"
     ]
    },
    {
     "name": "stderr",
     "output_type": "stream",
     "text": [
      "DEBUG:urllib3.connectionpool:http://api.zoopla.co.uk:80 \"GET /api/v1/property_listings.json?listing_status=sale&area=BN3&page_number=1&page_size=100&api_key=gcstpjxbj29s2nzkmr9jnkgg HTTP/1.1\" 200 None\n"
     ]
    },
    {
     "name": "stdout",
     "output_type": "stream",
     "text": [
      "reply: 'HTTP/1.1 200 OK\\r\\n'\n",
      "header: Content-Type: application/json; charset=utf-8\n",
      "header: Date: Sat, 02 Mar 2019 15:07:52 GMT\n",
      "header: Server: nginx\n",
      "header: transfer-encoding: chunked\n",
      "header: Connection: keep-alive\n"
     ]
    },
    {
     "name": "stderr",
     "output_type": "stream",
     "text": [
      "DEBUG:urllib3.connectionpool:Starting new HTTP connection (1): api.zoopla.co.uk:80\n"
     ]
    },
    {
     "name": "stdout",
     "output_type": "stream",
     "text": [
      "send: b'GET /api/v1/property_listings.json?listing_status=sale&area=BN3&page_number=1&page_size=100&api_key=gcstpjxbj29s2nzkmr9jnkgg HTTP/1.1\\r\\nHost: api.zoopla.co.uk\\r\\nUser-Agent: python-requests/2.21.0\\r\\nAccept-Encoding: gzip, deflate\\r\\nAccept: */*\\r\\nConnection: keep-alive\\r\\n\\r\\n'\n"
     ]
    },
    {
     "name": "stderr",
     "output_type": "stream",
     "text": [
      "DEBUG:urllib3.connectionpool:http://api.zoopla.co.uk:80 \"GET /api/v1/property_listings.json?listing_status=sale&area=BN3&page_number=1&page_size=100&api_key=gcstpjxbj29s2nzkmr9jnkgg HTTP/1.1\" 200 None\n"
     ]
    },
    {
     "name": "stdout",
     "output_type": "stream",
     "text": [
      "reply: 'HTTP/1.1 200 OK\\r\\n'\n",
      "header: Content-Type: application/json; charset=utf-8\n",
      "header: Date: Sat, 02 Mar 2019 15:07:53 GMT\n",
      "header: Server: nginx\n",
      "header: transfer-encoding: chunked\n",
      "header: Connection: keep-alive\n"
     ]
    },
    {
     "name": "stderr",
     "output_type": "stream",
     "text": [
      "DEBUG:urllib3.connectionpool:Starting new HTTP connection (1): api.zoopla.co.uk:80\n"
     ]
    },
    {
     "name": "stdout",
     "output_type": "stream",
     "text": [
      "send: b'GET /api/v1/property_listings.json?listing_status=sale&area=BN3&page_number=1&page_size=100&api_key=gcstpjxbj29s2nzkmr9jnkgg HTTP/1.1\\r\\nHost: api.zoopla.co.uk\\r\\nUser-Agent: python-requests/2.21.0\\r\\nAccept-Encoding: gzip, deflate\\r\\nAccept: */*\\r\\nConnection: keep-alive\\r\\n\\r\\n'\n"
     ]
    },
    {
     "name": "stderr",
     "output_type": "stream",
     "text": [
      "DEBUG:urllib3.connectionpool:http://api.zoopla.co.uk:80 \"GET /api/v1/property_listings.json?listing_status=sale&area=BN3&page_number=1&page_size=100&api_key=gcstpjxbj29s2nzkmr9jnkgg HTTP/1.1\" 200 None\n"
     ]
    },
    {
     "name": "stdout",
     "output_type": "stream",
     "text": [
      "reply: 'HTTP/1.1 200 OK\\r\\n'\n",
      "header: Content-Type: application/json; charset=utf-8\n",
      "header: Date: Sat, 02 Mar 2019 15:07:55 GMT\n",
      "header: Server: nginx\n",
      "header: transfer-encoding: chunked\n",
      "header: Connection: keep-alive\n"
     ]
    },
    {
     "name": "stderr",
     "output_type": "stream",
     "text": [
      "DEBUG:urllib3.connectionpool:Starting new HTTP connection (1): api.zoopla.co.uk:80\n"
     ]
    },
    {
     "name": "stdout",
     "output_type": "stream",
     "text": [
      "send: b'GET /api/v1/property_listings.json?listing_status=sale&area=BN3&page_number=1&page_size=100&api_key=gcstpjxbj29s2nzkmr9jnkgg HTTP/1.1\\r\\nHost: api.zoopla.co.uk\\r\\nUser-Agent: python-requests/2.21.0\\r\\nAccept-Encoding: gzip, deflate\\r\\nAccept: */*\\r\\nConnection: keep-alive\\r\\n\\r\\n'\n"
     ]
    },
    {
     "name": "stderr",
     "output_type": "stream",
     "text": [
      "DEBUG:urllib3.connectionpool:http://api.zoopla.co.uk:80 \"GET /api/v1/property_listings.json?listing_status=sale&area=BN3&page_number=1&page_size=100&api_key=gcstpjxbj29s2nzkmr9jnkgg HTTP/1.1\" 200 None\n"
     ]
    },
    {
     "name": "stdout",
     "output_type": "stream",
     "text": [
      "reply: 'HTTP/1.1 200 OK\\r\\n'\n",
      "header: Content-Type: application/json; charset=utf-8\n",
      "header: Date: Sat, 02 Mar 2019 15:07:57 GMT\n",
      "header: Server: nginx\n",
      "header: transfer-encoding: chunked\n",
      "header: Connection: keep-alive\n"
     ]
    },
    {
     "name": "stderr",
     "output_type": "stream",
     "text": [
      "DEBUG:urllib3.connectionpool:Starting new HTTP connection (1): api.zoopla.co.uk:80\n"
     ]
    },
    {
     "name": "stdout",
     "output_type": "stream",
     "text": [
      "send: b'GET /api/v1/property_listings.json?listing_status=sale&area=BN3&page_number=1&page_size=100&api_key=gcstpjxbj29s2nzkmr9jnkgg HTTP/1.1\\r\\nHost: api.zoopla.co.uk\\r\\nUser-Agent: python-requests/2.21.0\\r\\nAccept-Encoding: gzip, deflate\\r\\nAccept: */*\\r\\nConnection: keep-alive\\r\\n\\r\\n'\n"
     ]
    },
    {
     "name": "stderr",
     "output_type": "stream",
     "text": [
      "DEBUG:urllib3.connectionpool:http://api.zoopla.co.uk:80 \"GET /api/v1/property_listings.json?listing_status=sale&area=BN3&page_number=1&page_size=100&api_key=gcstpjxbj29s2nzkmr9jnkgg HTTP/1.1\" 200 None\n"
     ]
    },
    {
     "name": "stdout",
     "output_type": "stream",
     "text": [
      "reply: 'HTTP/1.1 200 OK\\r\\n'\n",
      "header: Content-Type: application/json; charset=utf-8\n",
      "header: Date: Sat, 02 Mar 2019 15:07:58 GMT\n",
      "header: Server: nginx\n",
      "header: transfer-encoding: chunked\n",
      "header: Connection: keep-alive\n"
     ]
    },
    {
     "name": "stderr",
     "output_type": "stream",
     "text": [
      "DEBUG:urllib3.connectionpool:Starting new HTTP connection (1): api.zoopla.co.uk:80\n"
     ]
    },
    {
     "name": "stdout",
     "output_type": "stream",
     "text": [
      "send: b'GET /api/v1/property_listings.json?listing_status=sale&area=BN3&page_number=1&page_size=100&api_key=gcstpjxbj29s2nzkmr9jnkgg HTTP/1.1\\r\\nHost: api.zoopla.co.uk\\r\\nUser-Agent: python-requests/2.21.0\\r\\nAccept-Encoding: gzip, deflate\\r\\nAccept: */*\\r\\nConnection: keep-alive\\r\\n\\r\\n'\n"
     ]
    },
    {
     "name": "stderr",
     "output_type": "stream",
     "text": [
      "DEBUG:urllib3.connectionpool:http://api.zoopla.co.uk:80 \"GET /api/v1/property_listings.json?listing_status=sale&area=BN3&page_number=1&page_size=100&api_key=gcstpjxbj29s2nzkmr9jnkgg HTTP/1.1\" 200 None\n"
     ]
    },
    {
     "name": "stdout",
     "output_type": "stream",
     "text": [
      "reply: 'HTTP/1.1 200 OK\\r\\n'\n",
      "header: Content-Type: application/json; charset=utf-8\n",
      "header: Date: Sat, 02 Mar 2019 15:08:00 GMT\n",
      "header: Server: nginx\n",
      "header: transfer-encoding: chunked\n",
      "header: Connection: keep-alive\n"
     ]
    },
    {
     "name": "stderr",
     "output_type": "stream",
     "text": [
      "DEBUG:urllib3.connectionpool:Starting new HTTP connection (1): api.zoopla.co.uk:80\n"
     ]
    },
    {
     "name": "stdout",
     "output_type": "stream",
     "text": [
      "send: b'GET /api/v1/property_listings.json?listing_status=sale&area=BN3&page_number=1&page_size=100&api_key=gcstpjxbj29s2nzkmr9jnkgg HTTP/1.1\\r\\nHost: api.zoopla.co.uk\\r\\nUser-Agent: python-requests/2.21.0\\r\\nAccept-Encoding: gzip, deflate\\r\\nAccept: */*\\r\\nConnection: keep-alive\\r\\n\\r\\n'\n"
     ]
    }
   ],
   "source": [
    "payload_data = {\"geolocations\":[]}\n",
    "lon=[]\n",
    "lat=[]\n",
    "date=[]\n",
    "flag=1\n",
    "while flag:\n",
    "    i=1\n",
    "    while 1:\n",
    "        search = zoopla.property_listings({'listing_status': 'sale','area': 'BN3','page_number':i,'page_size':100});\n",
    "        for result in search.listing:\n",
    "            date.append(result.first_published_date)\n",
    "            lon.append(result.longitude)\n",
    "            lat.append(result.latitude)\n",
    "            payload_data['geolocations'].append({'longitude':result.longitude,'latitude':result.latitude,'radius':50,'limit':1})"
   ]
  },
  {
   "cell_type": "code",
   "execution_count": null,
   "metadata": {},
   "outputs": [],
   "source": [
    "pc=[]\n",
    "result2=api.get_bulk_reverse_geocode(payload_data)\n",
    "for r in result2['result']:\n",
    "    pc.append(r['result'][0]['postcode'])"
   ]
  },
  {
   "cell_type": "code",
   "execution_count": null,
   "metadata": {
    "scrolled": false
   },
   "outputs": [],
   "source": [
    "mapbox_access_token = 'pk.eyJ1IjoiYXJ1MjYxMiIsImEiOiJjanMwanVvcHgxZjg2M3luMTk2c2Z1ZnNvIn0.LJrZfEMS-mfe8nIOVqLziA'\n",
    "\n",
    "data = [\n",
    "    go.Scattermapbox(\n",
    "        lat=lat,\n",
    "        lon=lon,\n",
    "        mode='markers',\n",
    "        marker=dict(\n",
    "            size=9\n",
    "        ),\n",
    "        text=pc\n",
    "    )\n",
    "]\n",
    "\n",
    "layout = go.Layout(\n",
    "    autosize=True,\n",
    "    hovermode='closest',\n",
    "    mapbox=dict(\n",
    "        accesstoken=mapbox_access_token,\n",
    "        bearing=0,\n",
    "        center=dict(\n",
    "            lat=sum(lat)/float(len(lat)),\n",
    "            lon=sum(lon)/float(len(lon))\n",
    "        ),\n",
    "        pitch=0,\n",
    "        zoom=10,\n",
    "        legend=['Sale']*10\n",
    "    ),\n",
    ")\n",
    "\n",
    "fig = dict(data=data, layout=layout)\n",
    "py.iplot(fig, filename='Multiple Mapbox')"
   ]
  },
  {
   "cell_type": "markdown",
   "metadata": {},
   "source": [
    "#### Method 2:"
   ]
  },
  {
   "cell_type": "code",
   "execution_count": null,
   "metadata": {},
   "outputs": [],
   "source": [
    "'''\n",
    "pc=[]\n",
    "for i in range(len(lon)):\n",
    "    data = api.get_nearest_postcodes_for_coordinates(latitude=lat[i],longitude=lon[i],radius=50,limit=1)\n",
    "    pc.append(data['result'][0]['postcode'])\n",
    "'''"
   ]
  }
 ],
 "metadata": {
  "kernelspec": {
   "display_name": "Python 3",
   "language": "python",
   "name": "python3"
  },
  "language_info": {
   "codemirror_mode": {
    "name": "ipython",
    "version": 3
   },
   "file_extension": ".py",
   "mimetype": "text/x-python",
   "name": "python",
   "nbconvert_exporter": "python",
   "pygments_lexer": "ipython3",
   "version": "3.7.1"
  }
 },
 "nbformat": 4,
 "nbformat_minor": 2
}
